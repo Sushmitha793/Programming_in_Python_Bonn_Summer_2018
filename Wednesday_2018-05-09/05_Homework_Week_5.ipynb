{
 "cells": [
  {
   "cell_type": "markdown",
   "metadata": {},
   "source": [
    "# Homework for Week 5 - Container (Container, File handling)"
   ]
  },
  {
   "cell_type": "markdown",
   "metadata": {},
   "source": [
    "**Homework is due on Wednesday, 30/05/2017, 1pm**\n",
    "\n",
    "- You only learn a programming language by actively praticing and using it! I therefore **strongly** advise you to work on the homework problems.\n",
    "- You are required to hand in group solutions (three students per group) - Please put the names of the students involved and the group number clearly within the Jupyter notebooks or as comments within scripts.\n",
    "- You need to reach 50 % of all possible homework points at the end of the term as one condition for your credit-points.\n",
    "- Please discuss the problems with your student peers in case of problems.\n",
    "- Please send your solutions via mail to Aakash and myself. Collect all your notebooks/scripts in **a single** Unix-gzipped Unix-tarfile with the name `group_X_submission_Week_Y.tgz` (`X` being your group number and `Y` the week-number of the homework sheet) that you send us. Please **do not** send us several individual files for your homework submission but **only one** tar-file!\n",
    "  - Aakash will correct them and give you feedback on your solutions. I also will talk about common problems in later classes.\n",
    "  - You can hand in Jupyter notebooks (please only **one** with solutions for all homework tasks) or Python scripts.\n",
    "  - If you hand in scripts, please use the proposed names to make live easier for us!\n",
    "  - Your code needs to be well and appropriately commented! \n",
    "  - Please note within your script or notebook, how much time you needed for the task. We want to get a better feeling on the work-load we ask for."
   ]
  },
  {
   "cell_type": "markdown",
   "metadata": {},
   "source": [
    "## Word doubling (20 points)\n",
    "\n",
    "When writing a text, we often make the mistake to repeat a word.\n",
    "\n",
    "   ```\n",
    "   When typing longer texts, we often often make the mistake to\n",
    "   repeat individual words such as here here.\n",
    "\n",
    "   ```\n",
    "   \n",
    "Write a program which reads a text file and marks positions with such mistakes. You should print lines and linenumbers with double words. Consider also cases where a word doubling occurs directly before and after a line break.\n",
    "\n",
    "You can find a short example text for test purposes [here](data/double_words.txt).\n",
    "\n",
    "If you hand in a script for this exercise, then please call it `double_words_group_X.py`.\n",
    "\n",
    "**Note:**\n",
    "An obvious ansatz for the problem is to read a line, to split it according to spaces, tabulators and line breaks and to perform the double word test. This, however is no complete solution to the problem! Consider again the above example:\n",
    "\n",
    "   ```\n",
    "   ... such as here here.\n",
    "   ```\n",
    "   \n",
    "The double word `here` would not be recognised because the second one is directly followed by a dot (end of sentence mark). There are similar issues with other punctuation marks such as semicolons, parentheses and so on. See the following cell for a possibility to take this into account.\n",
    "\n",
    "**Example:** The [example text](data/double_words.txt) gives the follwing output with my code:\n",
    "```\n",
    "Repetition in line 1. Word \"often\" at position 6!\n",
    "Repetition in line 2. Word \"here\" at position 6!\n",
    "Repetition of the first word \"words\" on line 5. It occured at the end of the previous (non-empty) line!\n",
    "Repetition of the first word \"test\" on line 9. It occured at the end of the previous (non-empty) line!\n",
    "\n",
    "```"
   ]
  },
  {
   "cell_type": "code",
   "execution_count": null,
   "metadata": {},
   "outputs": [],
   "source": [
    "# example to split a string into words taking into account\n",
    "# (removing) punctuation.\n",
    "# For time reasons, we will not treat 'regular expressions' in class\n",
    "# but you should look them up yourself!\n",
    "\n",
    "import re # module to handle regular expressions in a Python program\n",
    "\n",
    "s = \"Here some text with double (double!) words words. It also contains puctuation!\"\n",
    "\n",
    "# split s into its words without the punctuation marks; note that\n",
    "# you might end up with empty strings in the word list!\n",
    "words = re.split('\\W+', s.rstrip())\n",
    "\n",
    "print(words)"
   ]
  },
  {
   "cell_type": "code",
   "execution_count": null,
   "metadata": {},
   "outputs": [],
   "source": [
    "# your solution here"
   ]
  },
  {
   "cell_type": "markdown",
   "metadata": {},
   "source": [
    "## Analysis of sorting algorithms (second part) (20 points)\n",
    "\n",
    "**Remark:** This exercise does not require you to write some code but to analyse a given program and to describe your findings. Please do this within a jupyter-notebbok or within a text-file with the name `merge_sort_group_X.txt`.\n",
    "\n",
    "After examining one of the simplest sorting-algorithms (selection-sort) two weeks ago, we now repeat this exercise with one of the best sorting strategies, the `merge-sort`. As described in class, advanced sorting algorithms perform their task with a *divide-and-conquer* strategy. They continuously split up the task to smaller array-sizes and combine intermediate results in a clever manner.\n",
    "\n",
    "1.  Have a look at the code [merge-sort.py](code/merge-sort.py) and run it on your computer. You see a sorted list of 50 integer numbers. Study the code and describe the sorting procedure in plain English. The code has some commented print-statements which you can uncomment to easier see what is going on. Can you tell, where this algorithms name (merge-sort) comes from?\n",
    "2. The code `merge-sort.py` contains an outer `for`-loop which sorts lists of different input lists and stores the necessary loop-runs in a list `runs`. To use this loop, comment the lines `N = [50]` and `print(numbers[0])` (just at the end before the plotting commands). Uncomment the line `#N = list(range(2,3000,50))` (see also comments within the code). The result of the code in this case are two plots showing loop-runs vs. input-list-length ($n$) and loop-runs / $n$ vs input-list-length. Can you guess the complexity of the algorithm from these plots?\n",
    "3. The plots from (2.) show significant jumps at discrete list-lengths. At which lengths do these jumps appear and why?\n",
    "4. `merge-sort` is significantly quicker than `selection-sort` for large input lists. What is the price for the speed-increase? (**Hint:** What do you look at (besides CPU-power) when you buy a computer?) "
   ]
  },
  {
   "cell_type": "markdown",
   "metadata": {},
   "source": [
    "## Money Exchange (10 + 30 + 20 (bonus) points)"
   ]
  },
  {
   "cell_type": "markdown",
   "metadata": {},
   "source": [
    "We have a set $B$ of coins, e.g. for the Euro $B_{\\rm Euro}= \\{1, 2, 5, 10, 20, 50, 100, 200\\}$ (with the unit of cent). The goal of this exercise is to write Python-code which reports the smallest number of coins $N_{\\rm min}$ with which a given amount of money $Z_0$ can be paid.\n",
    "\n",
    "1. For all currencies in use, the following, intuitive algorithm gives the correct (and unique) answer:\n",
    "  1. Take from $B$ the coin with the highest possible value value ($M\\leq Z_0$) as often as possible, i.e. unitl $Z_0-(n_1+1)\\cdot M\\leq 0$. If $Z_0-(n_1+1)\\cdot M = 0$, the algorithm terminates. In that case, we just take $(n_1+1)\\cdot M$ to pay the requested amount. If $Z_0-(n_1+1)\\cdot M < 0$, we take coin $M$ $n_1$-times and set $Z_1 = Z_0-n_1\\cdot M$.\n",
    "  2. If necessary, we repeat (A) with $Z_1$ instead of $Z_0$ and go on until $Z_m=0$ (with $m\\geq 1$).\n",
    "  3. The number of coins that we asked for is $N_{\\rm min}=n_1+\\dots +(n_m+1)$.\n",
    "  \n",
    "  **Example:** $B=B_{\\rm Euro}$ and $Z_0=47$: $Z_0=2\\cdot 20 + 1\\cdot 5 + 1\\cdot 2$. Hence, we need at least 4 coins to pay 47 cents.\n",
    "  \n",
    "  **Your tasks:**\n",
    "  1. Reason why the algorithm always terminates.\n",
    "  2. Write a Python-program (call it `money_1_group_X.py` if you write a script) that implements the algorithm above and reports $N_{\\rm min}$ for a given $Z_0$.\n",
    "  \n",
    "2. Consider $B=\\{2, 5, 7, 8, 10, 11\\}$ and $Z_0=15$. The algorithm of (1.) would lead to the solution set $L=\\{11, 2, 2\\}$ (3 coins). Obviously, the alternative solutions $L_1=\\{10, 5\\}$ and $L_2=\\{7, 8\\}$ (2 coins) are better.\n",
    "\n",
    "  **Your tasks:**\n",
    "  1. Develop and describe an algorithm to obtain $N_{\\rm min}$ for an arbitrary base-set $B$.\n",
    "  2. Implement your algorithm in a Python-program (call it `money_2_group_X.py` if you write a script).\n",
    "  3. test your program thoroughly!\n",
    "  \n",
    "  **Notes:**\n",
    "  1. Do not give up if you are stuck with the task and discuss within your group. It is not an easy one!\n",
    "  2. The exercise can be considered a generalisation of the Chicekn-McNuggets exercise from two weeks ago. In that task, the base-set of package sizes was fixed but the coin base-set can be aribitrary here. This adds significant complexity to the problem. As in the McNuggets task, you need to try **all reasonable possibilities in brute-force** - but see the hint below.\n",
    "  3. We ask **only** for the number of coins $N_{\\rm min}$ **but not** for the coin-combination(s)!\n",
    "  4. Note that the problem can have **no solution** at all! For $B=\\{2\\}$, you obviously cannot pay any uneven amount of money. Your algorithm must correctly treat and report such cases.\n",
    "  \n",
    "  **Hint:**\n",
    "  As you probably already noticed, the main issue is **how to obtain and try all reasonable possibilities** to pay $Z_0$ with the least possible number of coins. Here is a proposal to get you going:\n",
    "  1. The base-set $B$ gives those amounts that can be paid **with exactly one coin**! If $Z_0$ is in this set or if it is smaller than all the coins in $B$, the algorithm terminates. In the latter case, the problem has no solution.\n",
    "  2. Construct a list of those amounts that can be paid **with exactly two coins** $\\dots$\n",
    "  \n",
    "3. **Bonus task:**\n",
    "Extend your solution of (2.) in a new program (call it `money_3_group_X.py` if you write a script) which reports $N_{\\rm min}$ **and** the combination of coins which solves the task. If there are several possibilities (as in the example of (2.)), you only need to give one.\n"
   ]
  },
  {
   "cell_type": "code",
   "execution_count": null,
   "metadata": {},
   "outputs": [],
   "source": [
    "# your solution here"
   ]
  }
 ],
 "metadata": {
  "kernelspec": {
   "display_name": "Python 3",
   "language": "python",
   "name": "python3"
  },
  "language_info": {
   "codemirror_mode": {
    "name": "ipython",
    "version": 3
   },
   "file_extension": ".py",
   "mimetype": "text/x-python",
   "name": "python",
   "nbconvert_exporter": "python",
   "pygments_lexer": "ipython3",
   "version": "3.6.5"
  }
 },
 "nbformat": 4,
 "nbformat_minor": 1
}
