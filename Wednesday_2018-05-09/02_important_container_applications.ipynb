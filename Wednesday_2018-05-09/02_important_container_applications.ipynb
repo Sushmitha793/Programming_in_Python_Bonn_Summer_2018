{
 "cells": [
  {
   "cell_type": "markdown",
   "metadata": {},
   "source": [
    "# Two important Container-Applications\n",
    "Python container play a central role in the language. This notebook introduces two cases of immediate relevance to you."
   ]
  },
  {
   "cell_type": "markdown",
   "metadata": {},
   "source": [
    "## Command line arguments for scripts\n",
    "You can give command line arguments to a `python`-script.\n",
    "As this feature makes no sense within a notebook, I demonstrate essential aspects with the script [code/basic_arguments.py](code/basic_arguments.py) on the command line."
   ]
  },
  {
   "cell_type": "code",
   "execution_count": null,
   "metadata": {},
   "outputs": [],
   "source": [
    "# Running this script only makes sense on the command line!\n",
    "\n",
    "# Run it like:\n",
    "# user$ python3 basic_arguments.py 1 2  \n",
    "# or\n",
    "# user$ python3 basic_arguments.py 2 3 \"Test\"\n",
    "\n",
    "# basic command line treatment can be done with the\n",
    "# sys module:\n",
    "import sys\n",
    "\n",
    "# command line arguments given to a script are provided\n",
    "# after the script call in the list 'sys.argv':\n",
    "print(type(sys.argv), len(sys.argv))\n",
    "\n",
    "# print command line arguments:\n",
    "# Note that the first element (index 0) in the sys.argv-list\n",
    "# contains the call to the script (script name and program path):\n",
    "for arg in sys.argv:\n",
    "    # the elemenrs of the sys.argv list are all strings!\n",
    "    # You need to explicitely cast them to other types if\n",
    "    # you need to (e.g. numbers to int/float) if you want to\n",
    "    # perform calculations.\n",
    "    print(arg, type(arg))\n"
   ]
  },
  {
   "cell_type": "markdown",
   "metadata": {},
   "source": [
    "**Remarks:**\n",
    "- A much more sophisticated way to treat command line options is the module `argparse`. It allows a Unix-like treatment of command line options (long/short options, optional arguments etc.).\n",
    "\n",
    "- Use command line options instead of interactive user input! Interactive input doesnot allow you to run your scripts in batch mode later!"
   ]
  },
  {
   "cell_type": "markdown",
   "metadata": {},
   "source": [
    "## Text File Reading in Python\n",
    "We will mostly deal with tabulated numerical data which will be treated separately in the section on `numpy`-arrays. We treat here reading of an *arbitrary* text file with Python-core capabilities. It is again a nice application of container handling."
   ]
  },
  {
   "cell_type": "markdown",
   "metadata": {
    "collapsed": true
   },
   "source": [
    "The basic principle to read in text files is similar to C or Fortran. We open the file and work through it line by line."
   ]
  },
  {
   "cell_type": "code",
   "execution_count": null,
   "metadata": {},
   "outputs": [],
   "source": [
    "!cat data/read_data.txt"
   ]
  },
  {
   "cell_type": "code",
   "execution_count": null,
   "metadata": {},
   "outputs": [],
   "source": [
    "f = open(\"data/read_data.txt\")  # f is a file handle and an iterator\n",
    "print(type(f))\n",
    "\n",
    "data = list(f) # the data in the iterator 'f' is explicitely transformed\n",
    "               # into a list - USUALLY NEVER DONE!\n",
    "print(data)\n",
    "\n",
    "f.close() # always close a handle after reading from it!"
   ]
  },
  {
   "cell_type": "code",
   "execution_count": null,
   "metadata": {},
   "outputs": [],
   "source": [
    "f = open(\"data/read_data.txt\")  # f is a file handle\n",
    "\n",
    "# The file handle can be used like a 'container' to read\n",
    "# each line with a for-loop:\n",
    "for line in f:\n",
    "    print(repr(line))  # line is a string and 'repr' prints it with all\n",
    "                       # invisible characters\n",
    "    print(line.strip().split())   # the construct str.strip().split() removes a\n",
    "                                  # newline character at the\n",
    "                                  # end of a string (the strip()-call)\n",
    "                                  # and splits a string into a list of its\n",
    "                                  # individual words. \n",
    "\n",
    "f.close()              # always close files when you are done with reading    "
   ]
  },
  {
   "cell_type": "markdown",
   "metadata": {},
   "source": [
    "We usually want to build up lists with values from different columns:"
   ]
  },
  {
   "cell_type": "code",
   "execution_count": null,
   "metadata": {},
   "outputs": [],
   "source": [
    "f = open(\"data/read_data.txt\")  # f is a file handle\n",
    "\n",
    "# we put the two columns into lists x and y:\n",
    "x = []\n",
    "y = []\n",
    "for line in f:\n",
    "    line_list = line.strip().split()\n",
    "    x.append(float(line_list[0])) # note that we need an explicit\n",
    "                                  # conversion to float (from string)\n",
    "    y.append(float(line_list[1]))\n",
    "    \n",
    "print(x, y)"
   ]
  },
  {
   "cell_type": "markdown",
   "metadata": {
    "collapsed": true
   },
   "source": [
    "**Remarks:**\n",
    "- There are many more possibilities / options to read text files. The example above should contain what you need for at least 95% of all cases.\n",
    "- You typically do not need to write to (text) files explicitely. The preferred way to write output from a Python program to a file is to use Unix output-redirection. For the rare cases that it is necessary, the following example summarises essential aspects."
   ]
  },
  {
   "cell_type": "code",
   "execution_count": null,
   "metadata": {},
   "outputs": [],
   "source": [
    "# open a new file\n",
    "# CAUTION: If the file already exists it is overwritten without\n",
    "# warning. If it is essential, you should check for an existing\n",
    "# file before writing to it! A possiblity to do so is the\n",
    "# os.path.exists command within the os.path module.\n",
    "\n",
    "# note the 'mode=w' option indicating to open a file in 'write mode':\n",
    "newfile = open(\"data/newfile.txt\", mode='w')\n",
    "\n",
    "# printing to a file can simply be done with a print statement\n",
    "# and an appropriate file option:\n",
    "print(\"This will appear in newfile.txt\", file=newfile)\n",
    "\n",
    "# Never forget to close a file when done with writing!\n",
    "# The file is probably corrupted if you do not do it!\n",
    "newfile.close()"
   ]
  }
 ],
 "metadata": {
  "kernelspec": {
   "display_name": "Python 3",
   "language": "python",
   "name": "python3"
  },
  "language_info": {
   "codemirror_mode": {
    "name": "ipython",
    "version": 3
   },
   "file_extension": ".py",
   "mimetype": "text/x-python",
   "name": "python",
   "nbconvert_exporter": "python",
   "pygments_lexer": "ipython3",
   "version": "3.6.5"
  }
 },
 "nbformat": 4,
 "nbformat_minor": 1
}
