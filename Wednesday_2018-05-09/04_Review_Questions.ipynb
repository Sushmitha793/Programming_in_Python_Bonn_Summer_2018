{
 "cells": [
  {
   "cell_type": "markdown",
   "metadata": {},
   "source": [
    "# Wednesday, 09/05/2018: Review questions\n",
    "Here some review questions and (very simple) exercises for the material that we covered in class. They will help you to identify topics that you should further reivew with the literature or the Internet.\n",
    "\n",
    "Please feel free to e-mail Aakash or myself for any questions you might have!"
   ]
  },
  {
   "cell_type": "markdown",
   "metadata": {},
   "source": [
    "**Please try to answer the following questions before executing any code. Do this only to verify your answers and use appropriate help-utilities if you are uncertain! For each problem you should be able to explain WHY you obtain a certain result!**"
   ]
  },
  {
   "cell_type": "markdown",
   "metadata": {},
   "source": [
    "- What is the output of the following code:\n",
    "\n",
    "```\n",
    "l = [1, 2, 3]\n",
    "m = l\n",
    "m *= 2\n",
    "print(l, m)\n",
    "\n",
    "t = (1, 2, 3)\n",
    "u = t\n",
    "t *= 2\n",
    "print(t, u)\n",
    "\n",
    "s = \"Thomas\"\n",
    "r = s\n",
    "r *= 2\n",
    "print(s, r)\n",
    "\n",
    "```"
   ]
  },
  {
   "cell_type": "markdown",
   "metadata": {},
   "source": [
    "- What is the output of the following code:\n",
    "\n",
    "```\n",
    "l = [1, 2, 3]\n",
    "m = [1, 2, 3]\n",
    "n = [1, 2, 3]\n",
    "\n",
    "o = l\n",
    "p = m.copy()\n",
    "q = n[:]\n",
    "\n",
    "o *= 2\n",
    "p *= 2\n",
    "q *= 2\n",
    "\n",
    "print(l, o)\n",
    "print(m, p)\n",
    "print(n, q)\n",
    "\n",
    "```"
   ]
  },
  {
   "cell_type": "markdown",
   "metadata": {},
   "source": [
    "- What is the output of the following code? If the output includes an error, then correct it!\n",
    "\n",
    "```\n",
    "def double(x, y):\n",
    "    return 2 * x, 2 * y\n",
    "    \n",
    "a = 1\n",
    "b = 2\n",
    "a1, b1 = double(a, b)\n",
    "print(a1, b1)\n",
    "\n",
    "c = 10\n",
    "d = 20\n",
    "print(double(a, b))\n",
    "print(double(*double(a, b)))\n",
    "\n",
    "e = 10, 20\n",
    "print(double(e))\n",
    "```"
   ]
  },
  {
   "cell_type": "markdown",
   "metadata": {},
   "source": [
    "- What is the output of the following code:\n",
    "\n",
    "```\n",
    "d = {’a’ : 0, ’b’: 1, ’c’ : 2}\n",
    "print(d[’c’])\n",
    "\n",
    "```"
   ]
  },
  {
   "cell_type": "markdown",
   "metadata": {},
   "source": [
    "- What is the output of the following code:\n",
    "\n",
    "```\n",
    "d = {’a’ : 0, ’b’: 1, ’c’ : 2}\n",
    "print(d[2])\n",
    "\n",
    "```"
   ]
  },
  {
   "cell_type": "markdown",
   "metadata": {},
   "source": [
    "- What is the output of the following code:\n",
    "\n",
    "```\n",
    "d = {’a’ : 0, ’b’: 1, ’c’ : 2}\n",
    "print(d.get(2, 'c')\n",
    "\n",
    "```"
   ]
  },
  {
   "cell_type": "markdown",
   "metadata": {},
   "source": [
    "- What is the output of the following code:\n",
    "\n",
    "```\n",
    "d = {’a’ : 0, ’b’: 1, ’c’ : 2}\n",
    "for x in sorted(d);\n",
    "    print(d[x], end=\" \")\n",
    "\n",
    "for x in sorted(d.values());\n",
    "    print(x, end=\" \")\n",
    "    \n",
    "for x in sorted(d.keys());\n",
    "    print(x, end=\" \")    \n",
    "```"
   ]
  },
  {
   "cell_type": "markdown",
   "metadata": {},
   "source": [
    "- What is the output of the following code:\n",
    "\n",
    "```\n",
    "d = {’a’ : 0, ’b’: 1, ’c’ : 2}\n",
    "e = d\n",
    "\n",
    "e['d'] = 5\n",
    "\n",
    "print(d, e)\n",
    "```\n"
   ]
  },
  {
   "cell_type": "markdown",
   "metadata": {},
   "source": [
    "**Here some simple programs to write**"
   ]
  },
  {
   "cell_type": "markdown",
   "metadata": {},
   "source": [
    "- Write a function `get_frequency_dict`. The input (argument) should be a string `s`. The return-value should be a dictionary whose keys are the characters within the string and whose values are the number of times that each character is repeated in `s`.\n",
    "\n",
    "  **Example:** For `s = \"Mississippi\"`, the result of `get_frequency_dict` should be\n",
    "as `{'M': 1, 'i': 4, 's': 4, 'p': 2}`\n"
   ]
  },
  {
   "cell_type": "markdown",
   "metadata": {},
   "source": [
    "- You are given the text file [data/read_data_comments.txt](data/read_data_comments.txt). Write a program that reads in the two number columns into lists with names `x` and `y`.\n",
    "\n",
    "  **Hint/Remark:** It is usual to mark comment lines in text files with a starting hash (`#`). These comment lines need to be skipped if you read data into your programs. The same applies to empty lines."
   ]
  }
 ],
 "metadata": {
  "kernelspec": {
   "display_name": "Python 3",
   "language": "python",
   "name": "python3"
  },
  "language_info": {
   "codemirror_mode": {
    "name": "ipython",
    "version": 3
   },
   "file_extension": ".py",
   "mimetype": "text/x-python",
   "name": "python",
   "nbconvert_exporter": "python",
   "pygments_lexer": "ipython3",
   "version": "3.6.5"
  }
 },
 "nbformat": 4,
 "nbformat_minor": 2
}
