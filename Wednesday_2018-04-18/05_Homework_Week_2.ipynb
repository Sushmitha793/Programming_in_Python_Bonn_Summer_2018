{
 "cells": [
  {
   "cell_type": "markdown",
   "metadata": {},
   "source": [
    "# Homework for Week 2 - First Python programs"
   ]
  },
  {
   "cell_type": "markdown",
   "metadata": {},
   "source": [
    "**Homework is due on Wednesday, 25/04/2018, 1pm**\n",
    "- You only learn a programming language by actively praticing and using it! I therefore **strongly** advise you to work on the homework problems.\n",
    "- You are required to hand in group solutions (three students per group) - Please put the names of the students involved and the group number clearly within the Jupyter notebooks or as comments within scripts.\n",
    "- You need to reach 50 % of all possible homework points at the end of the term as one condition for your credit-points.\n",
    "- Please discuss the problems with your student peers in case of problems.\n",
    "- Please send your solutions via mail to Aakash and myself. Collect all your notebooks/scripts in **a single** Unix-gzipped Unix-tarfile with the name `group_X_submission_Week_Y.tgz` (`X` being your group number and `Y` the week-number of the homework sheet) that you send us. Please **do not** send us several individual files for your homework submission but **only one** tar-file!\n",
    "  - Aakash will correct them and give you feedback on your solutions. I also will talk about common problems in later classes.\n",
    "  - You can hand in Jupyter notebooks (please only **one** with solutions for all homework tasks) or Python scripts.\n",
    "  - If you hand in scripts, please use the proposed names to make live easier for us!\n",
    "  - Your code needs to be well and appropriately commented! \n",
    "  - Please note within your script or notebook, how much time you needed for the task. We want to get a better feeling on the work-load we ask for."
   ]
  },
  {
   "cell_type": "markdown",
   "metadata": {},
   "source": [
    "## A numerical estimate for the aquare-root of a number"
   ]
  },
  {
   "cell_type": "markdown",
   "metadata": {},
   "source": [
    "in class, I showed you one possible algorithm to estimate the square root of a number. Here is another one:\n",
    "\n",
    "*We want to estimate the square root of a positive number $x$. We start with an arbitrary number $y_0>0$ and calculate the sequence $y_{n+1}=\\frac 12\\left(y_n+\\frac{x}{y_n}\\right)$. The sequence converges to $\\sqrt{x}$, i.e. $\\lim_{n\\to\\infty}y_n=\\sqrt{x}$*.\n",
    "\n",
    "Your tasks:\n",
    "\n",
    "1. Implement an approximation of the the algorithm above in a Python-program. Start with $y_0=1$ and calculate the $y_i$ in a `while`-loop. Finish the loop when $|y_{n+1}-y_n| < \\epsilon$ with $\\epsilon=10^{-6}$. Consider $y_{n+1}$ as your estimate for $\\sqrt{x}$ and print $y_{n+1}$ and $y_{n+1}^2$ (the latter is a test for your estimate!). If you write a script for the task, give it the name `square_root_group_X.py`.\n",
    "2. Test your program with the cases $x\\in \\{2, 5, 11, 49, 111, 225\\}$.\n",
    "\n",
    "**Hint:**\n",
    "\n",
    "A function to obtain the absolute value of a number is defined within the `numpy`-module - see next cell."
   ]
  },
  {
   "cell_type": "code",
   "execution_count": null,
   "metadata": {},
   "outputs": [],
   "source": [
    "import numpy # import mathematical functions\n",
    "\n",
    "print(numpy.fabs(5), numpy.fabs(-3.1415))  # numpy.fabs gives the absolute calue of a number"
   ]
  },
  {
   "cell_type": "code",
   "execution_count": null,
   "metadata": {},
   "outputs": [],
   "source": [
    "# your solution here\n",
    "\n",
    "import numpy # we need numpy for the fabs-function\n",
    "\n",
    "x = 5  # the number from which to estimate the square root\n",
    "eps = 1.0e-06 # The accuracy epsilon to which we want to estimate\n",
    "              # the square root\n",
    "    \n",
    ".\n",
    ".\n",
    "."
   ]
  },
  {
   "cell_type": "markdown",
   "metadata": {},
   "source": [
    "<a id='binary_system'></a>\n",
    "## Conversion of decimal numbers to the binary system (10 points)"
   ]
  },
  {
   "cell_type": "markdown",
   "metadata": {},
   "source": [
    "We discussed different systems to represent numbers in class. To represent a natural number $n$ in a base $b$, we have\n",
    "$$\n",
    "n = \\sum_{i=0}^m q_i b^i\n",
    "$$\n",
    "with $0\\leq q_i < b$. In our daily life, we use $b=10$ (decimal system), whereas computers internally work with $b=2$ (binary numbers).\n",
    "\n",
    "Your task is to write a Python-program that converts a given natural number in the decimal system to its binary representation.\n",
    "\n",
    "An algorithm to perform the task is as follows: *start with the integer in question and divide it by 2 keeping notice of the quotient and the remainder. Continue dividing the quotient by 2 until you get a quotient of zero. Then just write out the remainders in the reverse order.*\n",
    "\n",
    "Here is an example of such conversion using the integer 12. \n",
    "First, let’s divide the number by two specifying quotient and remainder:\n",
    "$$\n",
    "\\begin{eqnarray}\n",
    " 12 : 2 & = & 6 + 0 \\\\\n",
    " 6 : 2 & = & 3 + 0 \\\\\n",
    " 3 : 2 & = & 1 + 1 \\\\\n",
    " 1 : 2 & = & 0 + 1 \\\\\n",
    "\\end{eqnarray}\n",
    "$$\n",
    "Now, we simply need to write out the remainder in the reverse order — 1100. So, 12 in decimal system is represented as 1100 in binary.\n",
    "\n",
    "Your tasks:\n",
    "1. Implement a program that converts a decimal integer number too its binary representation and prints the result to screen - **please** check the hints below before you start! If you write a script for this task, give it the name `dec2binary_group_X.py`.\n",
    "2. Verify your program with the following test cases: $0\\rightarrow 0$, $2\\rightarrow 10$, $15\\rightarrow 1111$, $170 \\rightarrow 10101010$, $123456789 \\rightarrow 111010110111100110100010101$.\n",
    "\n",
    "**Hints:**\n",
    "1. See for instance [this website](https://blog.angularindepth.com/the-simple-math-behind-decimal-binary-conversion-algorithms-d30c967c9724) if you are interested to learn how/why the algorithm works.\n",
    "2. Use a `while`-loop to perform necessary divisions.\n",
    "3. To obtain the quotient and the remainder of a division with one expression, you can use the function ``divmod`` (see also [this review question](03_Review_Questions.ipynb/#divmod_function)).\n",
    "4. You can represent the binary-number and build it up within your loop in a string - see the next cell!"
   ]
  },
  {
   "cell_type": "code",
   "execution_count": null,
   "metadata": {},
   "outputs": [],
   "source": [
    "# 1. remember that you can transform an integer to a string with the 'str'-function!\n",
    "# 2. strings can be 'concatenated' with the '+'-operator\n",
    "\n",
    "n1 = 1  # 1 as integer\n",
    "n2 = 0  # 0 as integer\n",
    "number = n1 + n2  # simple integer addition\n",
    "binary_number = str(n1) + str(n2) # the '+'-operator on strings 'concatenates them'\n",
    "print(number, binary_number)"
   ]
  },
  {
   "cell_type": "code",
   "execution_count": null,
   "metadata": {},
   "outputs": [],
   "source": [
    "# your solution here\n",
    "\n",
    "n = 123456789  # we want to represent 'n' as binyray number\n",
    "b = \"\" # the binary representation will be stored as a string.\n",
    "       # (here initialised to an empty string)\n",
    ".\n",
    "."
   ]
  },
  {
   "cell_type": "markdown",
   "metadata": {},
   "source": [
    "## Test of natural numbers for the prime property (10 points)"
   ]
  },
  {
   "cell_type": "markdown",
   "metadata": {},
   "source": [
    "In the following, we want to develop a program to test positive integer numbers for the prime property. A positive integer larger than 1 is a prime if it cannot be formed by multiplying two smaller natural numbers. \n",
    "\n",
    "The student Lydia Leibnitz proposes the following algorithm for the task:\n",
    "1. We are given a natural number $n$ that we want to test\n",
    "2. In a loop, we test whether `n % m == 0` for all natural numbers $m$ with $2\\leq m < \\sqrt{n}$\n",
    "3. If the test (2) is `True` for any of the tested $m$, then $n$ is not prime. Otherwise, we have a prime number.\n",
    "\n",
    "Lydia gives the following proof for the correctness of her algorithm:\n",
    "Divisors of $n$ come in pairs and say $n = ab$. Then **exactly one** of the two follwing possibilities arises:\n",
    "1. $a < \\sqrt{n} \\text{ and } b > \\sqrt{n}$\n",
    "2. $a > \\sqrt{n} \\text{ and } b < \\sqrt{n}$\n",
    "\n",
    "To see this, we assume $a< \\sqrt{n} \\text{ and } b < \\sqrt{n}$. Then follows $n = ab < \\sqrt{n}\\sqrt{n} < n$ which leads to the contradiction $n<n$! Similarily, we conclude that not both, $a$ and $b$ can be larger than $\\sqrt{n}$. It follows that one of the divisors of $n$ must be smaller than $\\sqrt{n}$ and we only need to test $2\\leq m < \\sqrt{n}$ to check whether $n$ is a prime.\n",
    "\n",
    "Your tasks:\n",
    "1. Implement Lydias algorithm to test a given number $n$ for the prime property in a Python-program. The program should report with a text-message, which number is tested and whether it is a prime or not. If you write a script for this task, then give it the name `lydias_prime_problem_group_X.py`\n",
    "2. Test your program with the numbers 8, 105, 177, 51, 5, 47, 199 and 967. Your program should report the last four numbers as primes and the others as non-prime.\n",
    "3. Embed your test in a loop and consider systematically all numbers $2\\leq n \\leq 100$ for the prime property. What do you observe?\n",
    "4. (3.) should show you that your program does not work as expected! Find the underlying algorithmic problem and correct your program! Document within your notebook or script what the problem is!\n",
    "\n",
    "**Hint:** In the past, many students *did not find any problem* with their implemented algorithm. Please verify in this case that you implemented *exactly the algorithm* that is described above!"
   ]
  },
  {
   "cell_type": "code",
   "execution_count": null,
   "metadata": {},
   "outputs": [],
   "source": [
    "# your solution here"
   ]
  }
 ],
 "metadata": {
  "kernelspec": {
   "display_name": "Python 3",
   "language": "python",
   "name": "python3"
  },
  "language_info": {
   "codemirror_mode": {
    "name": "ipython",
    "version": 3
   },
   "file_extension": ".py",
   "mimetype": "text/x-python",
   "name": "python",
   "nbconvert_exporter": "python",
   "pygments_lexer": "ipython3",
   "version": "3.6.5"
  }
 },
 "nbformat": 4,
 "nbformat_minor": 1
}
