{
 "cells": [
  {
   "cell_type": "markdown",
   "metadata": {},
   "source": [
    "# What is a program and how to write one\n",
    "A computer program is a general structured collection of instruction sequences that perform a specific task when executed by a computer [(Wikipedia)](https://en.wikipedia.org/wiki/Computer_program)."
   ]
  },
  {
   "cell_type": "markdown",
   "metadata": {},
   "source": [
    "## Example: estimate square root of a number"
   ]
  },
  {
   "cell_type": "code",
   "execution_count": null,
   "metadata": {},
   "outputs": [],
   "source": [
    "import sys\n",
    "\n",
    "\"\"\"\n",
    "Author: Thomas Erben\n",
    "\n",
    "Purpose:\n",
    "program to estimate the square root of a positive real number\n",
    "with the bisection-algorithm (see https://en.wikipedia.org/wiki/Bisection_method)\n",
    "\n",
    "History:\n",
    "18.04.2018: I corrected a bug to  estimate square-roots from numbers\n",
    "            between 0 and 1.\n",
    "11.04.2018: first version\n",
    "\"\"\"\n",
    "\n",
    "def my_sqrt(x, epsilon):\n",
    "    \"\"\"\n",
    "    input:\n",
    "    - x: postive float from which to estimate the square root\n",
    "    - eps: expetced accuracy of the estimated square root.\n",
    "\n",
    "    output:\n",
    "    - The estimated square root if the iteration converges to the\n",
    "      expected accuracy eps\n",
    "    - 'None' if the function does not converge or if an ivalid input\n",
    "      was given.\n",
    "    \"\"\"\n",
    "    if x < 0 or epsilon < 0:\n",
    "        # the following print goes to STDERR; To STDERR, all\n",
    "        # messages indicating an error should go!\n",
    "        print(\"Both arguments to my_sqrt must be positive!\", file=sys.stderr)\n",
    "        return None\n",
    "   \n",
    "    a = 0.          # start of interval\n",
    "    # note that for a number smaller than 1, the square root\n",
    "    # is larger than the number but smaller than 1. For numbers\n",
    "    # larger than 1 the square root is always in the interval [0; x]!\n",
    "    b = max(x, 1)   # end of interval\n",
    "    sqrt_estimate = (a + b) / 2.\n",
    "    n_iteration = 0\n",
    "\n",
    "    while (b - a) > epsilon and n_iteration < 1000:\n",
    "        if (sqrt_estimate**2) < x:\n",
    "            a = (a + b) / 2.\n",
    "        else:\n",
    "            b = (a + b) / 2.\n",
    "\n",
    "        sqrt_estimate = (a + b) / 2.\n",
    "        n_iteration = n_iteration + 1\n",
    "\n",
    "    if n_iteration == 1000:\n",
    "        print(\"function my_sqrt did not converge after 1000 iterations\",\n",
    "              file=sys.stderr)\n",
    "        print(\"Probably, you asked for a too high accuracy!\",\n",
    "              file=sys.stderr)\n",
    "        return None\n",
    "\n",
    "    return sqrt_estimate\n",
    "\n",
    "# estimate the square root of 2:\n",
    "print(my_sqrt(2.0, 1.0e-6))\n"
   ]
  },
  {
   "cell_type": "markdown",
   "metadata": {},
   "source": [
    "## Here a program with the same functionality"
   ]
  },
  {
   "cell_type": "code",
   "execution_count": null,
   "metadata": {},
   "outputs": [],
   "source": [
    "import sys\n",
    "\n",
    "def my_sqrt(x, e):   \n",
    "    a = 0.\n",
    "    b = max(x, 1)   # end of interval\n",
    "    e = (a + b) / 2.\n",
    "    n = 0\n",
    "\n",
    "    while (b - a) > e and n < 1000:\n",
    "        if (e**2) < x:\n",
    "            a = (a + b) / 2.\n",
    "        else:\n",
    "            b = (a + b) / 2.\n",
    "\n",
    "        e = (a + b) / 2.\n",
    "        n = n + 1\n",
    "\n",
    "    if n == 1000:\n",
    "        print(\"This should not happen!\", file=sys.stderr)\n",
    "        return None\n",
    "\n",
    "    return e\n",
    "    \n",
    "print(my_sqrt(0.5, 1.0e-6))    "
   ]
  },
  {
   "cell_type": "markdown",
   "metadata": {},
   "source": [
    "### Very first Guidelines for good programming\n",
    "Please follow these basic guideline from the very beginning and do not get into the habbit to write *bad* and *unreadable* programs!"
   ]
  },
  {
   "cell_type": "markdown",
   "metadata": {},
   "source": [
    "1. **COMMENT** your code; The main purpose of comments is that **YOU** understand your program - also when you did not look at it for some time!\n",
    "  - Say clearly what the program should do in the beginning\n",
    "  - Keep a history of program modifications (we will learn more about this when we talk about version control later)\n",
    "  - Comment critical code parts (those that you are likely not to understand any more after some time). Comment **why** you are doing something, **not** what you are doing!\n",
    "  \n",
    "2. Use variable names which indicate their purpose!\n",
    "3. **TEST** your program thoroughly! Run your program through a series of tests catching also rare or special cases! For the first two homework sessions, I will propose test cases for each program. Afterwards, you will need to define and document test-cases yourself. First priority for our class is that you write programs that **do what they should do!**\n",
    "4. Keep your program simple and well readable! This is often difficult to quantify and subjective!\n"
   ]
  },
  {
   "cell_type": "code",
   "execution_count": null,
   "metadata": {},
   "outputs": [],
   "source": [
    "a = 16\n",
    "b = 20\n",
    "c = 5\n",
    "\n",
    "# The two following functions do exactly the same!\n",
    "def some_function_1(a, b, c):\n",
    "    if (a < 24) and (b < 60) and (c < 60):\n",
    "        return True\n",
    "    else:\n",
    "        return False\n",
    "    \n",
    "def some_function_2(a, b, c):\n",
    "    return a < 24 and b < 60 and c < 60\n",
    "\n",
    "# I consider the first one as 'much' simpler as the\n",
    "# logical and conceptual structure is easier to understand\n",
    "# for a novice programmer. The second one is much shorter though.\n",
    "# The second example is often considered 'better' by 'experts'!\n",
    "\n",
    "print(some_function_1(1, 2, 3), some_function_2(1, 2, 3))"
   ]
  }
 ],
 "metadata": {
  "kernelspec": {
   "display_name": "Python 3",
   "language": "python",
   "name": "python3"
  },
  "language_info": {
   "codemirror_mode": {
    "name": "ipython",
    "version": 3
   },
   "file_extension": ".py",
   "mimetype": "text/x-python",
   "name": "python",
   "nbconvert_exporter": "python",
   "pygments_lexer": "ipython3",
   "version": "3.6.5"
  }
 },
 "nbformat": 4,
 "nbformat_minor": 2
}
