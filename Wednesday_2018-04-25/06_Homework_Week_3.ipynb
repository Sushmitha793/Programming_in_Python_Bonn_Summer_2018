{
 "cells": [
  {
   "cell_type": "markdown",
   "metadata": {},
   "source": [
    "# Homework for Week 3 - Basic algorithms"
   ]
  },
  {
   "cell_type": "markdown",
   "metadata": {},
   "source": [
    "**Homework is due on Wednesday, 02/05/2018, 1pm**\n",
    "- You only learn a programming language by actively praticing and using it! I therefore **strongly** advise you to work on the homework problems.\n",
    "- You are required to hand in group solutions (three students per group) - Please put the names of the students involved and the group number clearly within the Jupyter notebooks or as comments within scripts.\n",
    "- You need to reach 50 % of all possible homework points at the end of the term as one condition for your credit-points.\n",
    "- Please discuss the problems with your student peers in case of problems.\n",
    "- Please send your solutions via mail to Aakash and myself. Collect all your notebooks/scripts in **a single** Unix-gzipped Unix-tarfile with the name `group_X_submission_Week_Y.tgz` (`X` being your group number and `Y` the week-number of the homework sheet) that you send us. Please **do not** send us several individual files for your homework submission but **only one** tar-file!\n",
    "  - Aakash will correct them and give you feedback on your solutions. I also will talk about common problems in later classes.\n",
    "  - You can hand in Jupyter notebooks (please only **one** with solutions for all homework tasks) or Python scripts.\n",
    "  - If you hand in scripts, please use the proposed names to make live easier for us!\n",
    "  - Your code needs to be well and appropriately commented! \n",
    "  - Please note within your script or notebook, how much time you needed for the task. We want to get a better feeling on the work-load we ask for."
   ]
  },
  {
   "cell_type": "markdown",
   "metadata": {},
   "source": [
    "## Chicken McNuggets (A brute-force algorithm) (20 points)\n",
    "Mc Donalds sells its Chicken McNuggets in packages of 6, 9 and 20 pieces. In this exercise we want to investigate, which number of nuggets can be bought with an arbitrary combination of these package sizes.\n",
    "- Write a `python`-function `can_buy` which takes two arguments:\n",
    "  - The (integer) number $N$ for the number of nuggets we would like to buy. This is a required argument.\n",
    "  - An optional boolean-argument `verbose` whose default is set to `True`. See below for an explanation of the purpose of this argument.\n",
    "\n",
    "  The function should return `True` if $N$ nuggets can be bought in package combinations of 6, 9 and 20 and `False` otherwise.\n",
    "\n",
    "  If the `verbose`-argument is set to `True`, the function should either print:\n",
    "  - \"Sorry, the nuggets cannot be bought\" if it is not possible to buy $N$ nuggets.\n",
    "  - All possible combinations of package sizes in which the nuggets can be bought if that is possible. As an advanced test case, you should find the following five possibilities for $N=60$ nuggets: (p_20, p_9, p_6) = (3, 0,0); (0, 6, 1); (0, 4, 4); (0, 2, 7); (0, 0, 10).\n",
    "   \n",
    " If the `verbose`-argument is set to `False`, the function should not print anything,\n",
    "\n",
    "  **Hint: A computer is ideal to determine a solution to a problem by trying out and testing *all reasonable possibilities*. This strategy is called *Finding a solution with brute-force*. You can solve this problem with this strategy and three nested ```while```-loops which iterate over the number of different package-sizes.**\n",
    "\n",
    "  If you hand in a script for this exercise, please name it ``nuggets.py``. You can put code and comments for the following parts of this exercise into this script.\n",
    "- Use your program to show that you can buy $N=50, 51, \\dots, 55$ nuggets.\n",
    "- Reason that you can buy any amount of nuggets $N>M$ if you can buy $M-5, M-4, \\dots, M$ nuggets.\n",
    "- Determine the maximum number of nuggets that cannot be bought in packages of 6, 9 and 20 pieces."
   ]
  },
  {
   "cell_type": "code",
   "execution_count": null,
   "metadata": {},
   "outputs": [],
   "source": [
    "# your solution here"
   ]
  },
  {
   "cell_type": "markdown",
   "metadata": {},
   "source": [
    "## Analysis of sorting algorithms (first part) (20 points)\n",
    "\n",
    "**Remark:** This exercise does not require you to write some code but to analyse a given program and to describe your findings. Please do this within a jupyter-notebbok or within a text-file with the name `selection_sort_group_X.txt`.\n",
    "\n",
    "\n",
    "Sorting algorithms are amongst the most important in computer science and you should have a solid knowledge of the essential ones. In this exercise, you analyse one of the simplest procedures, the so-called `selection-sort`. Although Python offers *state-of-the-art* sorting algorithms in its libraries, the study of sorting-algorithms provides important insight into topics such as: (1) Efficiency and complexity of different algorithms to solve a problem; (2) Trade-off between computation speed and memory requirements; (3) More fundamental strategies such as problem solving by *divide and conquer* (we will come back to this in a later homework exercise).\n",
    "\n",
    "Given a list of integer numbers such as `l = [5, 1, 9, 22, 11]`, the task at hand is to produce a sorted version of that list. For our example that would be `l_sorted = [1, 5, 9, 11, 22]`\n",
    "\n",
    "1.  Have a look at the code [selection-sort.py](code/selection-sort.py) and run it on your computer. You see a sorted list of 50 integer numbers. Study the code and describe the sorting procedure in plain English.\n",
    "2. Besides the resulting list, the code prints how many iteration-steps (runs of the inner-loop) were needed to perform the sorting. Obtain the necessary iteration steps for differnet sizes of input lists. You can do this by changing the number in the line `N = [50]`. Use the program code to derive a formula for the number of iteration steps as function of the input-list length $n$.\n",
    "3. Reduce the formula from (2.) to its *leading order*.\n",
    "4. The leading order you determined in (3.) is called the *run-time complexitiy of the algorithm*. Each algorithm can be assigned a run-time complexity such as $O(n^4)$ (so-called $O$-notation). If some sorting algorithm *had* the complexity $O(n^4)$, it would mean that the number of necessary computing operations for the task (and hence computing time) would rise roughly with the 4-th power of the length of the input list!\n",
    "5. With the knowledge you now have: Could you deternime the run-time complexity of `selection-sort.py` with a quick-look at the program code?\n",
    "6. The code `selection-sort.py` contains an outer loop which sorts lists of different input lists and stores the necessary loop-runs in a list `runs`. To use this loop, comment the lines `N = [50]`, `print(test_arr)` and `print(counter, \" loops needed.\")` and uncomment the line `# N = list(range(2,500,10))` (see also comments within the code). The result of the code in this case is a plot showing loop-runs vs. input-list-length. Does the plot confirm the complexity you determined in (3.)?\n",
    "\n"
   ]
  },
  {
   "cell_type": "markdown",
   "metadata": {},
   "source": [
    "## Searching element(s) in a list (effective vs. ineffective algorithms) (20 points)\n",
    "\n",
    "**Remarks:** (1) Please work on the `Sorting Algorthims I`-task before doing this exercise!; (2) If you hand in a script for this exercise, then please give it the name `sorting_group_X.py`\n",
    "\n",
    "\n",
    "In this exercise we want to develop an efficient algorithm to search a specific element in a list.\n",
    "\n",
    "For simplicity, we consider a list of integers, e.g. `l = [5, 3, 40, 122, 2345]`. We want to write some functions to check whether some given integer $m$ is in the list.\n",
    "\n",
    "1. The simplest approach certainly is to scan the complete list of length $N$ and check element-by-element whether $m$ is in the list. Write a function `find_simple` which implements this approach. The function should take a list as input and return two values: (1) The index of the list-element $m$ if $m$ is in the list or $-1$ if $m$ is not in the list and (2) The number $n_{comp}$ of element-comparisons that the algorithm needed to perform the task.\n",
    "\n",
    "2. Which run-time-complexity does the procedure from (1.) have? Use input lists of different sizes $N$ and produce a plot $N$ vs. $n_{comp}$. Describe and explain what the plot is showing. Does it confirm the complexity you derived? See the code [selection-sort.py](code/selection-sort.py) from the `Sorting Algorthims I`-task on how to create lists with random-numbers for test purposes.\n",
    "\n",
    "3. We now want to write a function `find_sorted` which perfroms *exactly* the same tasks as (1.) **BUT** takes a *sorted* list as input! Can you modify the simple algorithm from (1.) and write the function `find_sorted` with a complexity of $O(\\log_2(n))$? Please check the hints below!\n",
    "\n",
    "4. Create a plot for (3.) in a similar way to (2.). Describe and explain your observations!\n",
    "\n",
    "5. You start with an unsorted list. Describe under which practical circumstances you would:\n",
    "  1. use `find_simple` to search for some element(s).\n",
    "  2. first sort the array and use `find_sorted` to search for some element(s).\n",
    "\n",
    "**Hints for (3.)**\n",
    "\n",
    "- $\\log_2(n)$ (logarithm to the base 2 or *binary logartihm*) is the inverse function of $2^n$.\n",
    "- A complexity $O(\\log_2(N))$ concretely means for our problem: If we double the length of the input list from $N$ to $2N$, the number of *additional* comparion-operations only increases on the order of 1 ($\\log_2(2N)=\\log_2(N)+\\log_2(2)=\\log_2(N)+1$)!\n",
    "- If you have difficulties with the algorithm, then have a look again at the `my_sqrt`-example (estimation of the square-root from a float) which I discussed in the first two lectures!\n",
    "- See the following cell on how to create a sorted list of initially random numbers with Python-library functions.\n"
   ]
  },
  {
   "cell_type": "code",
   "execution_count": null,
   "metadata": {},
   "outputs": [],
   "source": [
    "import random\n",
    "\n",
    "# create a list of n random integer-values in [1; 3 * n]\n",
    "n = 10\n",
    "test_arr = [random.randint(1, 3 * n) for i in range(n)]\n",
    "print(test_arr)\n",
    "\n",
    "# sort the list\n",
    "test_arr.sort() # the list-sort method performs the sorting\n",
    "                # *in-place*. We will cover this in more detail\n",
    "                # in class\n",
    "print(test_arr)"
   ]
  },
  {
   "cell_type": "code",
   "execution_count": null,
   "metadata": {},
   "outputs": [],
   "source": [
    "# your solution here"
   ]
  }
 ],
 "metadata": {
  "kernelspec": {
   "display_name": "Python 3",
   "language": "python",
   "name": "python3"
  },
  "language_info": {
   "codemirror_mode": {
    "name": "ipython",
    "version": 3
   },
   "file_extension": ".py",
   "mimetype": "text/x-python",
   "name": "python",
   "nbconvert_exporter": "python",
   "pygments_lexer": "ipython3",
   "version": "3.6.5"
  }
 },
 "nbformat": 4,
 "nbformat_minor": 1
}
