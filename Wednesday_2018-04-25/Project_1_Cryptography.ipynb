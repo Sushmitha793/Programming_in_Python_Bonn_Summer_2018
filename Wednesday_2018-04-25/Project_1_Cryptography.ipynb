{
 "cells": [
  {
   "cell_type": "markdown",
   "metadata": {},
   "source": [
    "# Project 1 - Cryptography\n",
    "(This project is based on an exercise from Thomas Robitaille)"
   ]
  },
  {
   "cell_type": "markdown",
   "metadata": {},
   "source": [
    "## About the Projects\n",
    "- You will get one project approximately every other week.\n",
    "- Besides the homework-assignmentts, you need to solve the projects in order to pass the course. Your final course mark consists of the marks of four projects. We aim to hand-out six projects during the term and we do not consider the worst project marks if you hand in more than four projects. **HOWEVER: You must solve and hand in the final project (advanced science project analysis). This project will be part of your mark in any case!** \n",
    "- Please send your solutions (Python script with name `Your_Name_project_1.py` (e.g. `Thomas_Erben_project_1.py` or Jupyter notebook with name `Your_Name_project_1.ipynb`) via mail to Aakash and myself.\n",
    "- **In contrast to the homework exercises, each student must hand in an own solution for the projects! Of course you can and should discuss problems with each other! However, you must not use code or code-parts from your student peers in your project solutions!**\n",
    "\n",
    "**Note: Aakash and I are very happy to help you out with difficulties you might have with the project tasks! You can ask questions any time but please do so well in advance of the deadlines!**"
   ]
  },
  {
   "cell_type": "markdown",
   "metadata": {},
   "source": [
    "## Simple cryptography: The Cesar cipher\n",
    "**(The project is due on 09/05/2018 before the lecture at 1pm**)\n",
    "\n",
    "Cryptography is the study of how to make messages secret or how to read secret messages. A very simple encryption technique is called the *Caesar cipher*, which you can read up more about [here](http://en.wikipedia.org/wiki/Caesar_cipher). The basic idea is that each letter is replaced by a letter that is a certain number of letters away, so for example if the shift was 2, then A would become C, B would become D, etc. (and Z will become B).\n",
    "\n",
    "Write a `python`-function ``cesar_crypt`` that given a string and a shift (required arguments), will produce the encrypted string for that shift (return-value of the function). Note that the same function can be used to decrypt a message, by passing it a negative shift. \n",
    "\n",
    "The rules are: you should only accept and return lowercase letters, and spaces should not be changed. You can assume that the input string of your function obeys these rules and you do not need to verify the input.\n",
    "\n",
    "- Decrypt with your function the following message, which was encrypted with a shift of 13:\n",
    "    \n",
    "    pbatenghyngvbaf lbh unir fhpprrqrq va qrpelcgvat gur fgevat    \n",
    "                \n",
    "- Decrypt the following message **and** find the shift:\n",
    "    \n",
    "    gwc uivioml bw nqvl bpm zqopb apqnb\n",
    "        \n",
    "If you hand in a script for this project, then please name it ``cesar.py``.\n",
    "\n",
    "**Hints: (1) Find below a construct that allows you to acess all letters of a string one after the other; (2) To solve the task you need to convert letters to numbers and vice versa. There are several ways to do this. One is to use the built-in functions ``chr`` and ``ord`` (and remember you can find out more about a function by using ``?`` or the Internet).**"
   ]
  },
  {
   "cell_type": "markdown",
   "metadata": {},
   "source": [
    "## Accessing individual letters of a string"
   ]
  },
  {
   "cell_type": "code",
   "execution_count": null,
   "metadata": {},
   "outputs": [],
   "source": [
    "# the follwing construct allows you to access all characters\n",
    "# within a string one after the other:\n",
    "name = \"Thomas\"\n",
    "\n",
    "for letter in name:\n",
    "    # Within this 'for'-loop (you will learn more about it in later\n",
    "    # lectures) the variable 'letter' contains consecutively all\n",
    "    # individual letters of the string 'name'\n",
    "    print(letter)    \n"
   ]
  }
 ],
 "metadata": {
  "kernelspec": {
   "display_name": "Python 3",
   "language": "python",
   "name": "python3"
  },
  "language_info": {
   "codemirror_mode": {
    "name": "ipython",
    "version": 3
   },
   "file_extension": ".py",
   "mimetype": "text/x-python",
   "name": "python",
   "nbconvert_exporter": "python",
   "pygments_lexer": "ipython3",
   "version": "3.6.5"
  }
 },
 "nbformat": 4,
 "nbformat_minor": 1
}
