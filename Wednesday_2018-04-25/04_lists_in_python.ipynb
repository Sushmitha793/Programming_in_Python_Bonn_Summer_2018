{
 "cells": [
  {
   "cell_type": "markdown",
   "metadata": {},
   "source": [
    "# Lists in Python\n",
    "This is a very basic introduction into Python lists. We will treat them much more thoroughly in the context of *containers* (similar to arrays in other programming languages but usually much more powerful). I do this introduction here to early show you some important list-techniques and to produce some simple plots."
   ]
  },
  {
   "cell_type": "markdown",
   "metadata": {},
   "source": [
    "## The list\n",
    "A list is a *collection* of Python objects. It can contain *any* data and it can be arbitrarily modified once created."
   ]
  },
  {
   "cell_type": "code",
   "execution_count": null,
   "metadata": {},
   "outputs": [],
   "source": [
    "# lists live within square brackets and the individual elements are separated by commas:\n",
    "l = [1, 2, 3, 4] \n",
    "print(type(l))\n",
    "print(l[0], l[2])   # print the first and third element of the list 'l'.\n",
    "                    # Indices of list elements start with 0 and end with 'n-1\n",
    "                    # (for a container with 'n' elements) as in C)\n",
    "print(len(l))       # length of a list\n",
    "print(l[-1], l[-2]) # negative indices i access indices n - i if n is\n",
    "                    # the number of elements in the container!\n",
    "print(l[10])        # Python reports index overflows. We do not need to care about\n",
    "                    # memory allocation / deallocation etc."
   ]
  },
  {
   "cell_type": "markdown",
   "metadata": {},
   "source": [
    "### Contents of a list"
   ]
  },
  {
   "cell_type": "code",
   "execution_count": null,
   "metadata": {},
   "outputs": [],
   "source": [
    "# lists can be heterogeneous and contain 'everything'(!)\n",
    "import numpy \n",
    "\n",
    "def square(x):\n",
    "    return x**2\n",
    "\n",
    "# The following list contains an int, a float, a list, a module and a function!\n",
    "l = [1, 3.0, \"Thomas\", [1, 2], numpy, square]\n",
    "print(l[2], l[3][1], l[4].pi, l[5](5))"
   ]
  },
  {
   "cell_type": "markdown",
   "metadata": {},
   "source": [
    "### Modfication of a list contents"
   ]
  },
  {
   "cell_type": "code",
   "execution_count": null,
   "metadata": {},
   "outputs": [],
   "source": [
    "l = [1, 2, 3, 4, 5]\n",
    "print(l)\n",
    "l[1] = 5  # lists can be modified after\n",
    "          # they have been created! \n",
    "print(l)"
   ]
  },
  {
   "cell_type": "markdown",
   "metadata": {},
   "source": [
    "## Iteration over list elements\n",
    "I told you in the first lecture that you should not do numerical calculation by explicit *iteration* over list elements. It is nevertheless an important technique to know and also can/must be applied under certain circumstances!"
   ]
  },
  {
   "cell_type": "code",
   "execution_count": null,
   "metadata": {},
   "outputs": [],
   "source": [
    "# I show you here iteration over list elements with a while-loop.\n",
    "# List or container iteration is usually done with a for-loop which we will\n",
    "# introduce in the next lecture\n",
    "\n",
    "# create a list with running numbers from 1 to 10\n",
    "l = list(range(1, 11))\n",
    "print(l)\n",
    "\n",
    "# replace all elements in 'l' with the double value\n",
    "i = 0\n",
    "# Note that the index runs from 0 to len(l)-1!\n",
    "while i < len(l):\n",
    "    l[i] = l[i] * 2\n",
    "    i = i + 1\n",
    "    \n",
    "print(l)    "
   ]
  },
  {
   "cell_type": "markdown",
   "metadata": {},
   "source": [
    "### Creation of lists, addition of elements"
   ]
  },
  {
   "cell_type": "code",
   "execution_count": null,
   "metadata": {},
   "outputs": [],
   "source": [
    "# Some possibilities to create/modify lists:\n",
    "l = []           # the empty list\n",
    "l = l + [1]      # append a new element to 'l'\n",
    "print(l)\n",
    "l = l + [2, 3]  # append two more elements to the list\n",
    "print(l)\n",
    "l = l * 2        # 'double' the list\n",
    "print(l)\n",
    "\n",
    "l = [None] * 10  # create a list with 10 elements\n",
    "                 # predefined with None\n",
    "print(l)\n",
    "\n",
    "l = list(range(10)) # create a list with a running number\n",
    "print(l)"
   ]
  },
  {
   "cell_type": "code",
   "execution_count": null,
   "metadata": {},
   "outputs": [],
   "source": [
    "l.reverse?"
   ]
  },
  {
   "cell_type": "markdown",
   "metadata": {},
   "source": [
    "### List methods\n",
    "Explore the list methods with the tabulator-key and the question mark!"
   ]
  },
  {
   "cell_type": "raw",
   "metadata": {},
   "source": [
    "In [1]: a = [1,2,3]\n",
    "\n",
    "In [2]: a.<TAB>\n",
    "a.append   a.copy     a.extend   a.insert   a.remove   a.sort     \n",
    "a.clear    a.count    a.index    a.pop      a.reverse  \n",
    "\n",
    "In [2]: a.sort?\n",
    "Docstring: L.sort(key=None, reverse=False) -> None -- stable sort *IN PLACE*\n",
    "Type:      builtin_function_or_method"
   ]
  },
  {
   "cell_type": "markdown",
   "metadata": {},
   "source": [
    "### Exercise\n",
    "- Be `l` a list of integer numbers with length $N$ ($N$ > 10).\n",
    "  - Create such a list `l`\n",
    "  - What is the output of the following two expressions: l[-1] and l[-2]?\n",
    "  - Write Python code which substitutes the elements of `l` with their square numbers.\n",
    "  - Repeat the previous task but this time the square numbers should appear in a *new* list `m` and the original list `l` should be preserved."
   ]
  },
  {
   "cell_type": "markdown",
   "metadata": {},
   "source": [
    "## Simple plots\n",
    "We will introduce matplotlib in much more details with the numpy-arrays! I here only show the very basics for simple plots!"
   ]
  },
  {
   "cell_type": "code",
   "execution_count": null,
   "metadata": {},
   "outputs": [],
   "source": [
    "%matplotlib inline\n",
    "# The previous line is necessary that matplotlib plots\n",
    "# appear within the Jupyter documents. It is sufficent to\n",
    "# give it once within a document.\n",
    "import matplotlib.pyplot as plt\n",
    "\n",
    "x = [ 0.0, 1.0, 2.0, 3.0, 4.0, 5.0 ]\n",
    "y = [ 0, 0.5, 1.0, 1.5, 2.0, 2.5 ]\n",
    "# matplotlib plots numpy-array values!\n",
    "\n",
    "# a simple x-y plot\n",
    "#plt.plot(x, y)\n",
    "plt.plot(x, y, 'o')\n",
    "plt.xlabel('x') # description of x-axis\n",
    "plt.ylabel('y') # description of y-axis"
   ]
  },
  {
   "cell_type": "markdown",
   "metadata": {},
   "source": [
    "Please see this [example script](code/matplotlib_script.py) on how to create simple plots within scripts."
   ]
  },
  {
   "cell_type": "markdown",
   "metadata": {},
   "source": [
    "### Exercise"
   ]
  },
  {
   "cell_type": "markdown",
   "metadata": {},
   "source": [
    "Create a simple plot of the function $f(x)=x^2$. Start with a list `x=[1, 2, 3, 4, 5]`, create with an iteration a list `y` containing the square values of `x` and plot `y` vs. `x`."
   ]
  },
  {
   "cell_type": "code",
   "execution_count": null,
   "metadata": {},
   "outputs": [],
   "source": []
  }
 ],
 "metadata": {
  "kernelspec": {
   "display_name": "Python 3",
   "language": "python",
   "name": "python3"
  },
  "language_info": {
   "codemirror_mode": {
    "name": "ipython",
    "version": 3
   },
   "file_extension": ".py",
   "mimetype": "text/x-python",
   "name": "python",
   "nbconvert_exporter": "python",
   "pygments_lexer": "ipython3",
   "version": "3.6.5"
  }
 },
 "nbformat": 4,
 "nbformat_minor": 1
}
