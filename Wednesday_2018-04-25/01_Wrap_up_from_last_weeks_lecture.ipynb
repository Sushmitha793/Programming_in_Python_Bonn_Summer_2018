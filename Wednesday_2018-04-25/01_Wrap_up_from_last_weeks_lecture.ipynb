{
 "cells": [
  {
   "cell_type": "markdown",
   "metadata": {},
   "source": [
    "# Wrap up and extensions from last weeks lecture"
   ]
  },
  {
   "cell_type": "markdown",
   "metadata": {},
   "source": [
    "## More on the Jupyter Notebook"
   ]
  },
  {
   "cell_type": "markdown",
   "metadata": {},
   "source": [
    "The Jupyter-notebook offers rich possibilities to support its users working on documents!\n",
    "\n",
    "Get used to keyboard shortcuts to work efficently with the notebook. See Help -> Keyboard shortcuts"
   ]
  },
  {
   "cell_type": "markdown",
   "metadata": {},
   "source": [
    "### Running Linux commands within notebooks"
   ]
  },
  {
   "cell_type": "code",
   "execution_count": null,
   "metadata": {},
   "outputs": [],
   "source": [
    "# You can execute arbitrary Linux shell-commands within a Code-cell.\n",
    "# Just prepend Linux-commands with an exclamation point:\n",
    "#\n",
    "# list current directories contents\n",
    "!ls -F\n",
    "# print working dirctory\n",
    "!pwd\n",
    "# change directoty; NOTE: to change the directory for the IPython\n",
    "# session, you need to prepend 'cd' with a percent sign (jupyter magic)\n",
    "%cd data\n",
    "!ls\n",
    "!cat test.txt\n",
    "%cd .."
   ]
  },
  {
   "cell_type": "markdown",
   "metadata": {},
   "source": [
    "### Run and examine script-code (from disk or the WWW)"
   ]
  },
  {
   "cell_type": "code",
   "execution_count": null,
   "metadata": {},
   "outputs": [],
   "source": [
    "# The notebook offers 'magic'-commands\n",
    "# Python-code is here in a code-subdiretory\n",
    "%run code/magic_test.py"
   ]
  },
  {
   "cell_type": "code",
   "execution_count": null,
   "metadata": {},
   "outputs": [],
   "source": [
    "# load code from disk into a notebook cell\n",
    "%load code/magic_test.py"
   ]
  },
  {
   "cell_type": "code",
   "execution_count": null,
   "metadata": {},
   "outputs": [],
   "source": [
    "# list variables currently defined within this notebook.\n",
    "# Here we see variables that were originally defined in the program\n",
    "# code/magic_test.py\n",
    "%whos"
   ]
  },
  {
   "cell_type": "code",
   "execution_count": null,
   "metadata": {},
   "outputs": [],
   "source": [
    "# load code from the internet\n",
    "%load https://matplotlib.org/mpl_examples/lines_bars_and_markers/line_demo_dash_control.py"
   ]
  },
  {
   "cell_type": "markdown",
   "metadata": {},
   "source": [
    "### Help on Python commands and functions"
   ]
  },
  {
   "cell_type": "code",
   "execution_count": null,
   "metadata": {},
   "outputs": [],
   "source": [
    "# You can obtain help on an arbitrary Python-command, function or object by appending a '?' to its name\n",
    "import numpy\n",
    "\n",
    "a = 1\n",
    "s = \"Thomas\""
   ]
  },
  {
   "cell_type": "code",
   "execution_count": null,
   "metadata": {},
   "outputs": [],
   "source": [
    "print?\n",
    "#help(print)   # equivalent to the previous command\n",
    "#s?            # obtain help on the object that 's' points to\n",
    "#numpy.cos?    # obtain help on the cos-function within the numpy module"
   ]
  },
  {
   "cell_type": "code",
   "execution_count": null,
   "metadata": {},
   "outputs": [],
   "source": [
    "# You can search for function-names\n",
    "import numpy\n",
    "\n",
    "# You want to find out, how the numpy-function for arcus-cosinus is. You know that\n",
    "# the function name certainly has cos in it:\n",
    "numpy.*cos*?\n",
    "# list all numpy commands ending with sin\n",
    "#numpy.*sin?"
   ]
  },
  {
   "cell_type": "code",
   "execution_count": null,
   "metadata": {},
   "outputs": [],
   "source": [
    "# You can search for 'methods' (functions) that can be applied to objects:\n",
    "s = \"Hello Thomas\"\n",
    "print(s)\n",
    "print(len(s))\n",
    "# use <TAB>-completion to list all methods available for s\n",
    "# s."
   ]
  },
  {
   "cell_type": "markdown",
   "metadata": {},
   "source": [
    "## Correction from last weeks lecture"
   ]
  },
  {
   "cell_type": "code",
   "execution_count": null,
   "metadata": {},
   "outputs": [],
   "source": [
    "# I got wrong the formula for equality of int, divisor and remainder!\n",
    "\n",
    "x = 5\n",
    "y = 2\n",
    "\n",
    "# In the lecture I forgot to multiply the first term with y!\n",
    "print(x == (y * (x // y) + (x % y)))"
   ]
  },
  {
   "cell_type": "markdown",
   "metadata": {},
   "source": [
    "## Formatstrings"
   ]
  },
  {
   "cell_type": "code",
   "execution_count": null,
   "metadata": {},
   "outputs": [],
   "source": [
    "# Review question from last week:\n",
    "# What is the output of the following code\n",
    "\n",
    "i = 1\n",
    "while i <= 10:\n",
    "    j = 1\n",
    "    while j <= 10:\n",
    "        print(i * j, end=\" \")\n",
    "        j = j + 1\n",
    "    print()\n",
    "    i = i + 1"
   ]
  },
  {
   "cell_type": "markdown",
   "metadata": {},
   "source": [
    "See [this notebook](02_string_formatting.ipynb) how to create nicely formatted strings."
   ]
  },
  {
   "cell_type": "markdown",
   "metadata": {},
   "source": [
    "## More on the binary and other systems to represent numbers"
   ]
  },
  {
   "cell_type": "markdown",
   "metadata": {},
   "source": [
    "### How to print numbers from/in different systems"
   ]
  },
  {
   "cell_type": "code",
   "execution_count": null,
   "metadata": {},
   "outputs": [],
   "source": [
    "# print numbers from the binary, octal and hexadecimal system\n",
    "print(0b110)   # print value of binary 110 = 1 * 2**2 + 1 * 2**1 + 0 * 2**0\n",
    "print(0o177)   # print value of octal 177 = 1 * 8**2 + 7 * 8**1 + 7 * 8**0\n",
    "print(0xAB5)   # print value of hexadecimal AB5 0 10 * 16**2 + 11 * 16**1 + 5 * 16**0\n",
    "\n",
    "# integers can be printed in other systems with appropriate fromatting strings\n",
    "b = \"{0:b}\".format(10) # form a string with the binary representation of 10\n",
    "print(b) # print 10 in binary format\n",
    "o = \"{0:o}\".format(10) # form a string with the octal representation of 10\n",
    "print(o)\n",
    "h = \"{0:X}\".format(10) # form a string with the hexadecimal representation of 10\n",
    "print(h)\n"
   ]
  },
  {
   "cell_type": "markdown",
   "metadata": {},
   "source": [
    "## A usecase for using binary numbers in programming\n",
    "We create object catalogues from astronomical images but need to *flag* certain objects for artefacts.\n",
    "<img src=\"images/masks.png\" style=\"height: 400px;\">"
   ]
  },
  {
   "cell_type": "code",
   "execution_count": null,
   "metadata": {},
   "outputs": [],
   "source": [
    "# A masking scheme is efficiently implemented with bitmasks\n",
    "bordermask = 0b001\n",
    "satmask = 0b010\n",
    "astmask = 0b100\n",
    "\n",
    "# mask value for an object lying in the range of a star and\n",
    "# a satellite track\n",
    "objectmask = 0b110\n",
    "\n",
    "# we can easily ask whether an object has certain mask values set with\n",
    "# logical, bitwise operators\n",
    "print((objectmask & bordermask) > 0)\n",
    "print((objectmask & satmask) > 0)\n",
    "print((objectmask & astmask) > 0)\n",
    "print((objectmask & (bordermask | satmask)) > 0)\n",
    "print((objectmask & (astmask | satmask)) > 0)"
   ]
  },
  {
   "cell_type": "code",
   "execution_count": null,
   "metadata": {},
   "outputs": [],
   "source": []
  }
 ],
 "metadata": {
  "kernelspec": {
   "display_name": "Python 3",
   "language": "python",
   "name": "python3"
  },
  "language_info": {
   "codemirror_mode": {
    "name": "ipython",
    "version": 3
   },
   "file_extension": ".py",
   "mimetype": "text/x-python",
   "name": "python",
   "nbconvert_exporter": "python",
   "pygments_lexer": "ipython3",
   "version": "3.6.5"
  }
 },
 "nbformat": 4,
 "nbformat_minor": 2
}
