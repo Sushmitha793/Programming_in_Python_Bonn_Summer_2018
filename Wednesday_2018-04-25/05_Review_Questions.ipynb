{
 "cells": [
  {
   "cell_type": "markdown",
   "metadata": {},
   "source": [
    "# Wednesday, 25/04/2018: Review questions\n",
    "Here some review questions and (very simple) exercises for the material that we covered in class. They should help you to identify topics that you should further reivew with the literature or the Internet.\n",
    "\n",
    "Please feel free to e-mail Aakash or myself for any questions you might have!"
   ]
  },
  {
   "cell_type": "markdown",
   "metadata": {},
   "source": [
    "**Please try to answer the following questions before executing any code. Do this only to verify your answers!**"
   ]
  },
  {
   "cell_type": "markdown",
   "metadata": {},
   "source": [
    "- What is the output of the following code:\n",
    "  ```\n",
    "  def f(x):\n",
    "      return x + 2, x * 2\n",
    "      \n",
    "  x, y = f(5)\n",
    "  print(x + y)\n",
    "  ```"
   ]
  },
  {
   "cell_type": "markdown",
   "metadata": {},
   "source": [
    "- What is the output of the following code:\n",
    "  ```\n",
    "  def calc_q1(x):\n",
    "      q = 4 * x + 1\n",
    "      return q\n",
    "      \n",
    "  calc_q1(5)\n",
    "  print(q)\n",
    "  ```"
   ]
  },
  {
   "cell_type": "markdown",
   "metadata": {},
   "source": [
    "- What is the output of the following code:\n",
    "  ```\n",
    "  def calc_q4(x):\n",
    "      q = 4 * x + 1\n",
    "\n",
    "  print(calc_q4(5))\n",
    "  ```"
   ]
  },
  {
   "cell_type": "markdown",
   "metadata": {},
   "source": [
    "- What is the output of the following code:\n",
    "  ```\n",
    "  def inc_by_two(x):\n",
    "      x = x + 2\n",
    "      return x\n",
    "      \n",
    "  x = 10\n",
    "  inc_by_two(x)\n",
    "  print(\"x = \", x)\n",
    "  ```"
   ]
  },
  {
   "cell_type": "markdown",
   "metadata": {},
   "source": [
    "- What is the output of the follwing code:\n",
    "  ```\n",
    "  def f1(x, y):\n",
    "      return (x + 1) / (y - 1)\n",
    "            \n",
    "  def f2(x, y=2):\n",
    "      return (x + 1) / (y - 1)\n",
    "      \n",
    "  print(f1(3, 3))\n",
    "  print(f2(3), f2(3, y=4))\n",
    "  ```"
   ]
  },
  {
   "cell_type": "markdown",
   "metadata": {},
   "source": [
    "- True or False: The index for the first element of a list is 1, e.g., `xlist[1]` is the first element of the list `xlist`."
   ]
  },
  {
   "cell_type": "markdown",
   "metadata": {},
   "source": [
    "- What is the output of the following code:\n",
    "\n",
    "```\n",
    "s = \"Jane Doe\"\n",
    "print(s[1], s[3], s[-1])\n",
    "print(s[20])\n",
    "```"
   ]
  },
  {
   "cell_type": "markdown",
   "metadata": {},
   "source": [
    "- What is the output of the following code:\n",
    "\n",
    "```\n",
    "l = [1, 2, 3, 4, 5]\n",
    "\n",
    "l[3] = 10\n",
    "l[1], l[3] = l[3], l[1]\n",
    "\n",
    "print(l)\n",
    "```"
   ]
  },
  {
   "cell_type": "markdown",
   "metadata": {},
   "source": [
    "- What is the output of the follwing codes:\n",
    "  - ```\n",
    "    s = [1, 2, 3, 4, 5]\n",
    "    sum = 0 # initialisation to the integer 0\n",
    "\n",
    "    i = 0\n",
    "    while i < len(s):\n",
    "        sum = s[i] + sum\n",
    "        i = i + 1\n",
    "    print(sum)    \n",
    "    ```\n",
    "  -  ```\n",
    "    s = [1, 2, 3, 4, 5]\n",
    "    sum = \"\" # initialisation to the empty string\n",
    "\n",
    "    i = 0\n",
    "    while i < len(s):\n",
    "        sum = s[i] + sum\n",
    "        i = i + 1\n",
    "    print(sum)\n",
    "    ``` "
   ]
  },
  {
   "cell_type": "markdown",
   "metadata": {},
   "source": [
    "## Some simple programs to write"
   ]
  },
  {
   "cell_type": "markdown",
   "metadata": {},
   "source": [
    "- Write a function `convert_temp` which takes a temperature $T_f$ in Fahrenheit (float-number) as input. It should return the temperature in celsius $T_c$ and in Kelvin $T_K$. The conversions are given by:\n",
    "  - $T_c = \\frac{5}{9}(T_f-32)$\n",
    "  - $T_K = T_c + 273.15$"
   ]
  },
  {
   "cell_type": "markdown",
   "metadata": {},
   "source": [
    "- **You did the core parts of this exercise in last weeks homework-assignment already. The task is to turn your existing code into a function.** If you do not have your code at hand, you can use my [code](code/square_root_group_0.py) as a starting point.\n",
    "\n",
    "  The square root $y=\\sqrt{x}$ of a positive number $x$ can be estimated iteratively with $y_0>0$ (an arbitrary positive number) and $y_{n+1}=\\frac 12\\left(y_n+\\frac{x}{y_n}\\right)$. The procedure can be implmented with a `while`-loop testing for the condition $|y_{n+1}-y_n|>\\epsilon$. $\\epsilon$ represents the accuracy of the final square-root estimate. You update $y_n$ and $y_{n+1}$ within the loop and consider the final $y_{n+1}$ as estimate for $\\sqrt{x}$.\n",
    "\n",
    "  Write a python-function `my_sqrt` to estimate the square root with that recipe. The function should accept as arguments the number from which to estimate the square root and the required accuracy $\\epsilon$. $\\epsilon$ should be an optional parameter with a default value of $\\epsilon=10^{-6}$.\n",
    "  - If the user provides an invalid input (a number smaller than zero), the function should print an error message and return `None`.\n",
    "  - If the user input is valid, the function should return the square root estimate.\n"
   ]
  }
 ],
 "metadata": {
  "kernelspec": {
   "display_name": "Python 3",
   "language": "python",
   "name": "python3"
  },
  "language_info": {
   "codemirror_mode": {
    "name": "ipython",
    "version": 3
   },
   "file_extension": ".py",
   "mimetype": "text/x-python",
   "name": "python",
   "nbconvert_exporter": "python",
   "pygments_lexer": "ipython3",
   "version": "3.6.5"
  }
 },
 "nbformat": 4,
 "nbformat_minor": 2
}
