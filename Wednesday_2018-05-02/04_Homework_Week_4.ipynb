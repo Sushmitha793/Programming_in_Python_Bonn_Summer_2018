{
 "cells": [
  {
   "cell_type": "markdown",
   "metadata": {},
   "source": [
    "# Homework for Week 4 - Container (Lists, Strings)"
   ]
  },
  {
   "cell_type": "markdown",
   "metadata": {},
   "source": [
    "**Homework is due on Wednesday, 09/05/2017, 1pm**\n",
    "\n",
    "- You only learn a programming language by actively praticing and using it! I therefore **strongly** advise you to work on the homework problems.\n",
    "- You are required to hand in group solutions (three students per group) - Please put the names of the students involved and the group number clearly within the Jupyter notebooks or as comments within scripts.\n",
    "- You need to reach 50 % of all possible homework points at the end of the term as one condition for your credit-points.\n",
    "- Please discuss the problems with your student peers in case of problems.\n",
    "- Please send your solutions via mail to Aakash and myself. Collect all your notebooks/scripts in **a single** Unix-gzipped Unix-tarfile with the name `group_X_submission_Week_Y.tgz` (`X` being your group number and `Y` the week-number of the homework sheet) that you send us. Please **do not** send us several individual files for your homework submission but **only one** tar-file!\n",
    "  - Aakash will correct them and give you feedback on your solutions. I also will talk about common problems in later classes.\n",
    "  - You can hand in Jupyter notebooks (please only **one** with solutions for all homework tasks) or Python scripts.\n",
    "  - If you hand in scripts, please use the proposed names to make live easier for us!\n",
    "  - Your code needs to be well and appropriately commented! \n",
    "  - Please note within your script or notebook, how much time you needed for the task. We want to get a better feeling on the work-load we ask for."
   ]
  },
  {
   "cell_type": "markdown",
   "metadata": {},
   "source": [
    "## ProjectEuler - Problem 14\n",
    "Solve [problem 14](https://projecteuler.net/problem=14) of ProjectEuler:\n",
    "\n",
    "\n",
    "The following iterative collatz-sequence is defined for the set of positive integers:\n",
    "\n",
    "$$n \\rightarrow n/2 \\text{ (n is even)}$$\n",
    "$$n \\rightarrow 3n + 1 \\text{ (n is odd)}$$\n",
    "\n",
    "Using the rule above and starting with 13, we generate the following sequence:\n",
    "\n",
    "$13\\rightarrow 40\\rightarrow 20\\rightarrow 10\\rightarrow 5\\rightarrow 16 \\rightarrow 8\\rightarrow 4\\rightarrow 2\\rightarrow 1$\n",
    "\n",
    "It can be seen that this sequence (starting at 13 and finishing at 1) contains 10 terms. Although it has not been proved yet (Collatz Problem), it is thought that all starting numbers finish at 1.\n",
    "\n",
    "Which starting number, under one million, produces the longest chain?\n",
    "\n",
    "**NOTE:** Once the chain starts the terms are allowed to go above one million.\n",
    "\n",
    "**Important:** The running time of your program must not be longer than 5 seconds on any of the CIP-pool computers!\n",
    "\n",
    "If you hand in a script for this exercise, then please call it `euler_problem_14_group_X.py`.\n",
    "\n",
    "**Hints:**\n",
    "- The obvious algorithm is to obtain the collatz-sequence length for each number under one million and to test which length is the smallest. This is indeed the base strategy.\n",
    "- If you look carefully at the example given:\n",
    "\n",
    "  $13\\rightarrow 40\\rightarrow 20\\rightarrow 10\\rightarrow 5\\rightarrow 16 \\rightarrow 8\\rightarrow 4\\rightarrow 2\\rightarrow 1$\n",
    "\n",
    "  you notice that you can obtain the length of the collatz sequence for a starting number of $13$ ($l(13)$) quickly when you arrive at 10. You determined the length for this number already and you get immediately $l(13) = 3+l(10)$. Use a list to memorize the lengths of numbers you already tested and use it as a look-up table when you test larger numbers. This strategy will easily allow you to respect the time limit without further tricks."
   ]
  },
  {
   "cell_type": "code",
   "execution_count": null,
   "metadata": {},
   "outputs": [],
   "source": [
    "# your solution here"
   ]
  },
  {
   "cell_type": "markdown",
   "metadata": {},
   "source": [
    "<a id='eratosthenes'></a>\n",
    "## The sieve of Eratosthenes (20 points)\n",
    "In this exercise you need to write a proggram implementing the [Sieve of Eratosthenes](https://en.wikipedia.org/wiki/Sieve_of_Eratosthenes). It is an old and very efficient algorithm to determine all prime numbers up to a given upper limit `n`.\n",
    "\n",
    "The algorithm is described as follows:\n",
    "1. Create a list of consecutive integers from `2` through `n`: `[2, 3, 4, ..., n]`.\n",
    "2. Initially, let `p` equal `2`, the smallest prime number.\n",
    "3. Enumerate the multiples of `p` by counting to `n` from `2p` in increments of `p`, and mark them in the list (these will be `2p`, `3p`, `4p`, ...; the `p` itself should not be marked).\n",
    "4. Find the first number greater than `p` in the list that is not marked. If there was no such number, stop. Otherwise, let `p` now equal this new number (which is the next prime), and repeat from step 3.\n",
    "5. When the algorithm terminates, the numbers remaining not marked in the list are all the primes below `n`.\n",
    "\n",
    "\n",
    "Perform the following tasks:\n",
    "- Write a function `eratosthenes` which takes the upper limit `n` as mandatory argument and returns a list of all prime numbers up to `n`.\n",
    "\n",
    "- Use your function to solve [problem 10](https://projecteuler.net/problem=10) of ProjectEuler.\n",
    "\n",
    "If you hand in a script for this exercise, please call it `eratosthenes_group_X.py`.\n",
    "\n",
    "**Hints:**\n",
    "1. Start the algorithm described above with \n",
    "  ```\n",
    "  prime_cand = list(range(n + 1))   # prime number candidates\n",
    "  ```\n",
    "  I deliberately create a list containing `[0, 1]` here. It makes the problem easier to solve with the next hint. \n",
    "  \n",
    "2. You can mark numbers in the list as non-prime (step 3 in the algorithm) by setting corresponding list entries to zero. For the marking itself, [this review question](04_Review_Questions.ipynb/#slice_assignment) might come in handy.\n",
    "\n",
    "3. Your program to solve the Euler-problem must not run longer than 10 seconds on any of the CIP-Pool computers!"
   ]
  },
  {
   "cell_type": "code",
   "execution_count": null,
   "metadata": {},
   "outputs": [],
   "source": [
    "# Your solution here"
   ]
  },
  {
   "cell_type": "markdown",
   "metadata": {},
   "source": [
    "## Birthday Probabilities (20 points)\n",
    "Computer simulations are very useful to obtain propabilities for events whose analytical treatment is difficult or impossible. I assume that everybody of you is familiar with the so-called *birthday paradox*.\n",
    "In a room with 23 people, the probability that two of them have the same birthday already exceeds 50%! While the classical birthday problem is still easily solved anlytically, this is no longer true for the more general problem *What is the probability that in a group of $n$ people, $k$ ($k\\geq 2$) or more of them have the same birthday?* We want to investigate this problem with a computer simulation in this exercise.\n",
    "\n",
    "We can estimate the probability by generating random samples of $n$ peoples birthdays (lists of $n$ random integer numbers between 1 and 365. We neglect leap years!) and checking for *matches*. A random birthday list contains a match if the same number appears $k$ or more times in it. If we have $N$ lists with $n$ random birthdays each and we find a total of $m$-matches in these $N$ lists, the desired probability is approximated by $P_{k}(n)=m/N$.\n",
    "\n",
    "Write a function `birthday_probability` which takes the three mandatory arguments $n$ (number of people), $k$ (at least $k$-peopleshare the same birthday) and $N$ (number of samples). It should return an estimate for $P_{k}(n)$. Find $n_{50}$ such that $P_{\\rm triple birthday}(n_{50})\\approx 0.5$.\n",
    "\n",
    "**Your tasks:**\n",
    "1. Implement the function `birthday_probability` as described above.\n",
    "2. Test your function with the case $k=2$ and find $n_{50}$ such that $P_{k}(n_{50}\\approx 0.5$. It is well known that $n_{50}=23$ in this case.\n",
    "3. Find $n_{50}$ for the $k=3$ case.\n",
    "\n",
    "**Hints:**\n",
    "- The function `random.randint` within the `random`-module. generates one random integer number in a given range. You can use a list comprehension to generate the required list of $n$ random numbers.\n",
    "- Use at least $N>1000$ samples to estimate the propability but experiment with other numbers to investigate when the results are stable.\n",
    "- Within this weeks *Review Questions* you already wrote a function `triple` to test whether a list contains three or more times. Generalise that function for this exercise."
   ]
  },
  {
   "cell_type": "code",
   "execution_count": null,
   "metadata": {},
   "outputs": [],
   "source": [
    "# your solution here"
   ]
  }
 ],
 "metadata": {
  "kernelspec": {
   "display_name": "Python 3",
   "language": "python",
   "name": "python3"
  },
  "language_info": {
   "codemirror_mode": {
    "name": "ipython",
    "version": 3
   },
   "file_extension": ".py",
   "mimetype": "text/x-python",
   "name": "python",
   "nbconvert_exporter": "python",
   "pygments_lexer": "ipython3",
   "version": "3.6.5"
  }
 },
 "nbformat": 4,
 "nbformat_minor": 1
}
