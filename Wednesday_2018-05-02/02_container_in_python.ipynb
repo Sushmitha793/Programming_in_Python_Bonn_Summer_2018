{
 "cells": [
  {
   "cell_type": "markdown",
   "metadata": {},
   "source": [
    "# Container (lists, strings and tuples) in Python\n",
    "Container come closest to what you know as *arrays* in other languages. However, the Python container are much richer and more powerful than arrays in C or Fortran.\n",
    "\n",
    "We distinguish containers with the following propoerties:\n",
    "- Which data can be put in a specific container type (only specifc data, homegeneous data)?\n",
    "- Is a container mutable (can it be modified once it is created)?\n",
    "- Is there an order in the containers data (all containers that we treat here are ordered)"
   ]
  },
  {
   "cell_type": "markdown",
   "metadata": {},
   "source": [
    "## The list container\n",
    "Lists are the most general container in Python. It can contain *any* data and it can be arbitrarily modified once created."
   ]
  },
  {
   "cell_type": "code",
   "execution_count": null,
   "metadata": {},
   "outputs": [],
   "source": [
    "# lists live within square brackets and the individual elements are separated by commas:\n",
    "l = [1, 2, 3, 4] \n",
    "print(type(l))\n",
    "print(l[0], l[2])   # print the first and third element of the list 'l'.\n",
    "                    # Indices of container elements start with 0 and end with 'n-1\n",
    "                    # (for a container with 'n' elements) as in C)\n",
    "print(len(l))       # length of a list\n",
    "print(l[-1], l[-2]) # negative indices i access indices n - i if n is\n",
    "                    # the number of elements in the container!\n",
    "print(l[10])        # Python reports index overflows. We do not need to care about\n",
    "                    # memory allocation / deallocation etc."
   ]
  },
  {
   "cell_type": "markdown",
   "metadata": {},
   "source": [
    "### Contents of a list"
   ]
  },
  {
   "cell_type": "code",
   "execution_count": null,
   "metadata": {},
   "outputs": [],
   "source": [
    "# lists can be heterogeneous and contain 'everything'(!)\n",
    "import numpy \n",
    "\n",
    "def square(x):\n",
    "    return x**2\n",
    "\n",
    "# The following list contains an int, a float, a list, a module and a function!\n",
    "l = [1, 3.0, \"Thomas\", [1, 2], numpy, square]\n",
    "print(l[2], l[3][1], l[4].pi, l[5](5))"
   ]
  },
  {
   "cell_type": "markdown",
   "metadata": {},
   "source": [
    "### Modfication of a list contents"
   ]
  },
  {
   "cell_type": "code",
   "execution_count": null,
   "metadata": {},
   "outputs": [],
   "source": [
    "l = [1, 2, 3, 4, 5]\n",
    "print(l)\n",
    "l[1] = 5  # lists can be modified after\n",
    "          # they have been created! \n",
    "print(l)"
   ]
  },
  {
   "cell_type": "markdown",
   "metadata": {},
   "source": [
    "### Slicing (access of sublists)"
   ]
  },
  {
   "cell_type": "code",
   "execution_count": null,
   "metadata": {},
   "outputs": [],
   "source": [
    "# sublists can be accessed via slicing\n",
    "l = [1, 2, 3, 4, 5, 6, 7, 8, 9, 10]\n",
    "print(l[1:3])  # access the sublist from the second (inclusive) to\n",
    "               # the fourth (exclusive) elements\n",
    "print(l[4:])   # access the sublist from the fifth element up to the end\n",
    "print(l[::2])  # access the sublist with each other element\n",
    "print(l[1:-1]) # negative indices also work for slices\n",
    "l[1:4] = [20, 21, 22]  # note that you can use slicing also on the left\n",
    "                       # side of an assigment! In that case the structure\n",
    "                       # of the right side (size of the container)\n",
    "                       # has to match the sliced container. Note that\n",
    "                       # this operation is only available for mutable\n",
    "                       # containers!\n",
    "print(l)                    "
   ]
  },
  {
   "cell_type": "markdown",
   "metadata": {},
   "source": [
    "see the [end of the notebook](#formal_slicing) for a *formal* summary of the slicing rules."
   ]
  },
  {
   "cell_type": "markdown",
   "metadata": {},
   "source": [
    "### Creation of lists, addition of elements"
   ]
  },
  {
   "cell_type": "code",
   "execution_count": null,
   "metadata": {},
   "outputs": [],
   "source": [
    "# Some possibilities to create/modify lists:\n",
    "l = []           # the empty list\n",
    "l = l + [1, 2]   # append a list to an existing one\n",
    "l = l * 2        # 'double' the list\n",
    "print(l)\n",
    "\n",
    "l = [None] * 10  # create a list with 10 elements\n",
    "                 # predefined with None\n",
    "print(l)\n",
    "\n",
    "l = list(range(10)) # create a list with a running number\n",
    "print(l)"
   ]
  },
  {
   "cell_type": "markdown",
   "metadata": {},
   "source": [
    "### List methods\n",
    "Explore the list methods with the tabulator-key and the question mark!"
   ]
  },
  {
   "cell_type": "raw",
   "metadata": {},
   "source": [
    "In [1]: a = [1,2,3]\n",
    "\n",
    "In [2]: a.<TAB>\n",
    "a.append   a.copy     a.extend   a.insert   a.remove   a.sort     \n",
    "a.clear    a.count    a.index    a.pop      a.reverse  \n",
    "\n",
    "In [2]: a.sort?\n",
    "Docstring: L.sort(key=None, reverse=False) -> None -- stable sort *IN PLACE*\n",
    "Type:      builtin_function_or_method"
   ]
  },
  {
   "cell_type": "markdown",
   "metadata": {},
   "source": [
    "## Exercise \n",
    "\n",
    "Explain your expectations and observations for the following code:"
   ]
  },
  {
   "cell_type": "code",
   "execution_count": null,
   "metadata": {},
   "outputs": [],
   "source": [
    "n = 10\n",
    "o = n\n",
    "o = o * 2\n",
    "print(n, o)\n",
    "\n",
    "n = 10\n",
    "o = n\n",
    "o *= 2\n",
    "print(n, o)\n",
    "\n",
    "l = [1, 2, 3]\n",
    "m = l\n",
    "m = m * 2\n",
    "print(l, m)\n",
    "\n",
    "l = [1, 2, 3]\n",
    "m = l\n",
    "m *= 2\n",
    "print(l, m)\n"
   ]
  },
  {
   "cell_type": "markdown",
   "metadata": {},
   "source": [
    "## Iteration over a containers elements\n",
    "A natural opration is to iteraite over the elements of a container and to perform actions with the individual elements. The main tool for this task is the `for`-loop:\n",
    "\n",
    "```\n",
    "for var in iterable:\n",
    "    # For each execution of the loop the variable 'var'\n",
    "    # contains one element of the iterable (the container)\n",
    "    # The loop is finished when the iterable (the list for now)\n",
    "    # is exhausted\n",
    "```\n",
    "\n",
    "Note that this approach is equivalent to iterating over index numbers with a `while`-loop. However, there are containers that do not have `traditional` indices, e.g. dictionaries (unordered containers) that only can be iterated over with a `for`-construct."
   ]
  },
  {
   "cell_type": "code",
   "execution_count": null,
   "metadata": {},
   "outputs": [],
   "source": [
    "# print square numbers from an integer list:\n",
    "orig_list = list(range(10))\n",
    "\n",
    "for i in orig_list:\n",
    "    print(i**2)      "
   ]
  },
  {
   "cell_type": "markdown",
   "metadata": {},
   "source": [
    "## List comprehensions\n",
    "List comprehensions are a powerful way to create new lists out of old ones:"
   ]
  },
  {
   "cell_type": "code",
   "execution_count": null,
   "metadata": {},
   "outputs": [],
   "source": [
    "def f(x):\n",
    "    return 2 * x + 1\n",
    "\n",
    "a = list(range(10))\n",
    "\n",
    "# obtain a new list with the square numbers of a\n",
    "b = [ i**2 for i in a ]\n",
    "print(b)\n",
    "\n",
    "# apply a function to the elements in a but only if the\n",
    "# element is smaller than 5\n",
    "c = [ f(i) for i in a if i < 5 ]\n",
    "print(c)\n",
    "\n",
    "a = [1, 2]\n",
    "b = [3, 4]\n",
    "\n",
    "# cartesian product of the lists a and b:\n",
    "d = [[i, j] for i in a for j in b]\n",
    "print(d)"
   ]
  },
  {
   "cell_type": "markdown",
   "metadata": {},
   "source": [
    "### Exercise:\n",
    "Write a list comprehension to determine all Phytagorean tripes (a, b, c) and $0<a, b, c \\leq 30$. A Phytagorean triple satisfies $a^2 + b^2 = c^2$.\n",
    "\n",
    "**Bonus:** The variables $a$ and $b$ are symmetric in the problem and each triple in your solution probably appear two times, e.g. [3,4,5] and [4,3,5]. Can you correct this?"
   ]
  },
  {
   "cell_type": "code",
   "execution_count": null,
   "metadata": {},
   "outputs": [],
   "source": [
    "# your solution here"
   ]
  },
  {
   "cell_type": "markdown",
   "metadata": {},
   "source": [
    "## Strings\n",
    "Strings are a specific, homogeneous container of individual characters. They cannot be modified in place once created!"
   ]
  },
  {
   "cell_type": "code",
   "execution_count": null,
   "metadata": {},
   "outputs": [],
   "source": [
    "s = \"Thomas\"\n",
    "print(type(s))\n",
    "print(len(s)) # length as for lists\n",
    "print(s[1])   # indexing as for lists\n",
    "print(s[2:])  # slicing as for lists\n",
    "print(s * 2)    # 'doubling' as for lists\n",
    "print(s + \" Erben\") # appending as for lists\n",
    "s[0] = 'A'    # this gives an error; the string cannot\n",
    "              # be modified once created"
   ]
  },
  {
   "cell_type": "code",
   "execution_count": null,
   "metadata": {},
   "outputs": [],
   "source": [
    "# Iteration as for lists:\n",
    "s = \"Thomas\"\n",
    "\n",
    "for i in s:\n",
    "    print(i)"
   ]
  },
  {
   "cell_type": "markdown",
   "metadata": {},
   "source": [
    "<a id='cross_sum'></a>\n",
    "### Exercise\n",
    "Write a function `cross_sum` which calculates the cross sum of an integer. The cross sum $C$ is the sum of the individual digits of an integer, e.g. $C(1234) = 1+2+3+4$ or $C(5678910) = 5+6+7+8+9+1+0$. \n",
    "\n",
    "**Hint**: The functions `str(i)` and `int(s)` allow you to convert an integer $i$ to a string and a string $s$ to an integer respectively. If you represent the integer as a string, you can access its individual elements with a `for`-loop. "
   ]
  },
  {
   "cell_type": "code",
   "execution_count": null,
   "metadata": {},
   "outputs": [],
   "source": [
    "# your solution here"
   ]
  },
  {
   "cell_type": "markdown",
   "metadata": {},
   "source": [
    "## Tuples\n",
    "Tuples are cousins of lists which are immutable! They cannot be changed once they are created.\n",
    "Whenever you come across a tuple, it is clear in general, why it is an object that should not be changed."
   ]
  },
  {
   "cell_type": "code",
   "execution_count": null,
   "metadata": {},
   "outputs": [],
   "source": [
    "t = (1, 2, 3, 4)  # tuples live in parentheses\n",
    "print(type(t))\n",
    "print(t[1:3])     # slicing and all over other element accesses that do not change the tuple as for lists\n",
    "\n",
    "u = 'a', 2.0, 5   # The parentheses can be ommitted for tuple creation!\n",
    "print(type(u))\n",
    "u[1] = 'b'"
   ]
  },
  {
   "cell_type": "markdown",
   "metadata": {},
   "source": [
    "<a id='formal_slicing'></a>\n",
    "# Appendix: Slicing Rules"
   ]
  },
  {
   "cell_type": "markdown",
   "metadata": {},
   "source": [
    "You absolutely need to master the `Python` slicing rules. Besides with lists, they will be essential for `numpy`-arrays, which we will use for all numerical and scientific calculations!\n",
    "\n",
    "Many students have difficulties to perform or to understand certain slicing operations. I therefore do a *formal* summary of the slicing rules here."
   ]
  },
  {
   "cell_type": "markdown",
   "metadata": {},
   "source": [
    "The following applies to a larger number of `Python` containers such as lists, strings, tuples, `numpy`-arrays. We just talk about *arrays* for all these container types here and we use the following list `x` as a concrete example."
   ]
  },
  {
   "cell_type": "code",
   "execution_count": null,
   "metadata": {},
   "outputs": [],
   "source": [
    "x = [1, 2, 3, 4, 5, 6, 7, 8, 9, 10]"
   ]
  },
  {
   "cell_type": "markdown",
   "metadata": {},
   "source": [
    "- An individual element $i$ is accessed with the syntax `x[i]`. $i$ can take the positive values $i\\in [0, n-1]$, where $n$ is the number of elements in the array. `x[0]` accesses the first and `x[n-1]` the last element of the array. If $i$ is negative, the element `x[n-i]` is accessed."
   ]
  },
  {
   "cell_type": "code",
   "execution_count": null,
   "metadata": {},
   "outputs": [],
   "source": [
    "# examples for single element array access:\n",
    "print(x[1], x[-1], x[3])\n",
    "print(x[10])  # invalid index - python raises an error"
   ]
  },
  {
   "cell_type": "markdown",
   "metadata": {},
   "source": [
    "- To access multiple array-elements simultaneously and to work on a *subarray*, we need to use an array-slice. The basic slice syntax is `x[i:j:k]`. $i$ is the starting index, $j$ is the stopping index, and $k$ is the step $(k\\neq0)$. This selects the $m$ elements with index values $i, i + k, \\dots, i + (m - 1) k$ where $m = q + (r\\neq0)$ and $q$ and $r$ are the quotient and remainder obtained by dividing $j - i$ by $k$: $j - i = q k + r$, so that $i + (m - 1) k < j$.\n",
    "\n",
    "**Note: Slicing operations are always inclusive the starting index $i$ BUT exclusive the stopping index $j$!**"
   ]
  },
  {
   "cell_type": "code",
   "execution_count": null,
   "metadata": {},
   "outputs": [],
   "source": [
    "print(x[1:7:2])"
   ]
  },
  {
   "cell_type": "markdown",
   "metadata": {},
   "source": [
    "- Negative $i$ and $j$ are interpreted as $n + i$ and $n + j$ where $n$ is the number of elements in the array. Negative $k$ makes stepping go towards smaller indices."
   ]
  },
  {
   "cell_type": "code",
   "execution_count": null,
   "metadata": {},
   "outputs": [],
   "source": [
    "print(x[-2:10], x[-3:3:-1])"
   ]
  },
  {
   "cell_type": "markdown",
   "metadata": {},
   "source": [
    "- Assume $n$ is the number of elements in the array. Then, if $i$ is not given it defaults to $0$ for $k > 0$ and $n - 1$ for $k < 0$. If $j$ is not given it defaults to $n$ for $k > 0$ and $-1$ for $k < 0$. If $k$ is not given it defaults to $1$. Note that `::` is the same as : and means select all elements."
   ]
  },
  {
   "cell_type": "code",
   "execution_count": null,
   "metadata": {},
   "outputs": [],
   "source": [
    "print(x[5:], x[::-2])"
   ]
  },
  {
   "cell_type": "markdown",
   "metadata": {},
   "source": [
    "- *Remark:* A slicing operation `x[i:j:k]` *always* returns a *subarray*, while accessing a single element with `x[i]` returns an object of corresponding type. Note carefully the outout of the following example:"
   ]
  },
  {
   "cell_type": "code",
   "execution_count": null,
   "metadata": {},
   "outputs": [],
   "source": [
    "print(x[3])   # accessing the fourth element\n",
    "print(x[3:4]) # accessing a *subarray* containg only the fourth argument!"
   ]
  }
 ],
 "metadata": {
  "kernelspec": {
   "display_name": "Python 3",
   "language": "python",
   "name": "python3"
  },
  "language_info": {
   "codemirror_mode": {
    "name": "ipython",
    "version": 3
   },
   "file_extension": ".py",
   "mimetype": "text/x-python",
   "name": "python",
   "nbconvert_exporter": "python",
   "pygments_lexer": "ipython3",
   "version": "3.6.5"
  }
 },
 "nbformat": 4,
 "nbformat_minor": 1
}
