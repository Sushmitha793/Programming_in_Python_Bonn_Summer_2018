{
 "cells": [
  {
   "cell_type": "markdown",
   "metadata": {},
   "source": [
    "# Wednesday, 02/05/2018: Review questions\n",
    "Here some review questions and (very simple) exercises for the material that we covered in class. They will help you to identify topics that you should further reivew with the literature or the Internet.\n",
    "\n",
    "Please feel free to e-mail Aakash or myself for any questions you might have!"
   ]
  },
  {
   "cell_type": "markdown",
   "metadata": {},
   "source": [
    "**Please try to answer the following questions before executing any code. Do this only to verify your answers and use appropriate help-utilities if you are uncertain! For each problem you should be able to explain WHY you obtain a certain result!**"
   ]
  },
  {
   "cell_type": "markdown",
   "metadata": {},
   "source": [
    "<a id='basic_slicing'></a>\n",
    "- What is the output of the following code:\n",
    "\n",
    "```\n",
    "s = \"Jane Doe\"\n",
    "print(s[1], s[-1], s[1:3], s[1:3:-1], s[3:1:-1], s[:3], s[::2], s[::-1])\n",
    "```"
   ]
  },
  {
   "cell_type": "markdown",
   "metadata": {},
   "source": [
    "- What is the output of the following code:\n",
    "  ```\n",
    "  for x in \"Mississippi\".split(\"i\"):\n",
    "      print(x, end=\"\")\n",
    "  ```"
   ]
  },
  {
   "cell_type": "markdown",
   "metadata": {},
   "source": [
    "- What is the output of the following code:\n",
    "  ```\n",
    "  xlist = []\n",
    "  xlist.append(5)\n",
    "  xlist.append(10)\n",
    "  print(xlist)\n",
    "  ```"
   ]
  },
  {
   "cell_type": "markdown",
   "metadata": {},
   "source": [
    "- What is the output of the following code:\n",
    "  ```\n",
    "  zlist = []\n",
    "  zlist.append([5, 10])\n",
    "  print(zlist)\n",
    "  ```\n",
    "  **Note: Most people get this one wrong!**"
   ]
  },
  {
   "cell_type": "markdown",
   "metadata": {},
   "source": [
    "- What is the output of the following code:\n",
    "  ```\n",
    "  xlist = list(range(-3, 3))\n",
    "  print(xlist)\n",
    "  ```"
   ]
  },
  {
   "cell_type": "markdown",
   "metadata": {},
   "source": [
    "- What is the output of the following code:\n",
    "  ```\n",
    "  xlist = [2, 1, 3]\n",
    "  ylist = sorted(xlist)\n",
    "  print(xlist, ylist)\n",
    "  ```"
   ]
  },
  {
   "cell_type": "markdown",
   "metadata": {},
   "source": [
    "- What is the output of the following code:\n",
    "  ```\n",
    "  xlist = [2, 1, 3]\n",
    "  ylist = xlist.sort()\n",
    "  print(xlist, ylist)\n",
    "  ```\n",
    "  **Hint: Read carefully the documentation of the list-sort method BEFORE giving your answer! Most people get this one wrong!**"
   ]
  },
  {
   "cell_type": "markdown",
   "metadata": {},
   "source": [
    "- To what value is the variable x set by the following code?\n",
    "  ```\n",
    "  def multiply_list(start, stop):\n",
    "      product = 1\n",
    "      for element in range(start, stop):\n",
    "          product = product * element\n",
    "      return product\n",
    "      \n",
    "  x = multiply_list(1, 4)\n",
    "  ```"
   ]
  },
  {
   "cell_type": "markdown",
   "metadata": {},
   "source": [
    "- What is the output of the following code:\n",
    "  ```\n",
    "  xlist = [3, 2, 1, 0]\n",
    "  \n",
    "  for item in xlist:\n",
    "      print(item, end=\" \")\n",
    "  ```"
   ]
  },
  {
   "cell_type": "markdown",
   "metadata": {},
   "source": [
    "- What is the output of the follwing code:\n",
    "  ```\n",
    "  a = 1\n",
    "  b = 2\n",
    "  xlist = [a, b, a + b]\n",
    "  a = 0\n",
    "  b = 0\n",
    "\n",
    "  print(xlist)\n",
    "  ```"
   ]
  },
  {
   "cell_type": "markdown",
   "metadata": {},
   "source": [
    "- What is the output of the follwing codes:\n",
    "  - ```\n",
    "    s = [’s’, ’c’, ’o’, ’r’, ’e’]\n",
    "    sum = \"\" # initialisation to an empty string\n",
    "\n",
    "    for i in range(len(s)):\n",
    "        sum = s[i] + sum\n",
    "    print(sum)\n",
    "    ```\n",
    "  -  ```\n",
    "    s = [’s’, ’c’, ’o’, ’r’, ’e’]\n",
    "    sum = 0 # initialisation to the integer 0\n",
    "\n",
    "    for i in range(len(s)):\n",
    "        sum = s[i] + sum\n",
    "    print(sum)\n",
    "    ``` "
   ]
  },
  {
   "cell_type": "markdown",
   "metadata": {
    "collapsed": true
   },
   "source": [
    "- What is the output of the follwing code:\n",
    "  ```\n",
    "  s = \"abc\"\n",
    "  for i in range(1, len(s) + 1):\n",
    "      sub = \"\"\n",
    "      for j in range(i):\n",
    "          sub = s[j] + sub\n",
    "      print(sub)\n",
    "  ```"
   ]
  },
  {
   "cell_type": "markdown",
   "metadata": {},
   "source": [
    "- After the following commands have been executed, what is the value of `x`?\n",
    "\n",
    "```\n",
    "s = \"this is a test\"\n",
    "x = s.split()\n",
    "```"
   ]
  },
  {
   "cell_type": "markdown",
   "metadata": {},
   "source": [
    "- What is the output of the following code:\n",
    "  ```\n",
    "  a = 123456\n",
    "  s = str(a)\n",
    "  print(s[5] + s[4] + s[3] + s[2])\n",
    "  ```"
   ]
  },
  {
   "cell_type": "markdown",
   "metadata": {},
   "source": [
    "- What numbers are output by the follwing code:\n",
    "  ```\n",
    "  x = [i for i in range(50) if i%5 == 0]\n",
    "  ```"
   ]
  },
  {
   "cell_type": "markdown",
   "metadata": {},
   "source": [
    "- What is the contents of list `x` after the following code:\n",
    "  ```\n",
    "  x = list(range(10))\n",
    "  x[1:5] = [0, 0, 0, 0]\n",
    "  ```"
   ]
  },
  {
   "cell_type": "markdown",
   "metadata": {},
   "source": [
    "<a id='slice_assignment'></a>\n",
    "- What is the contents of list `x` after the following code:\n",
    "  ```\n",
    "  x = list(range(100))\n",
    "  x[1::2] = [0] * len(x[1::2])\n",
    "  ```\n",
    "  \n",
    "  **Hint:** This one might be very useful for the [Eratosthenes sieve homework exercise](05_Homework_Week_4.ipynb/#eratosthenes)."
   ]
  },
  {
   "cell_type": "markdown",
   "metadata": {},
   "source": [
    "- What will ``a`` be after the following?\n",
    "\n",
    "    ```     \n",
    "    a = [1, 3., [1, 2, 3], 'hello']\n",
    "    b = a[0]\n",
    "    b = 4.\n",
    "    ```"
   ]
  },
  {
   "cell_type": "markdown",
   "metadata": {},
   "source": []
  },
  {
   "cell_type": "markdown",
   "metadata": {},
   "source": [
    "**Here some simple programs to write**"
   ]
  },
  {
   "cell_type": "markdown",
   "metadata": {
    "collapsed": true
   },
   "source": [
    "- Write a function `min_mean_max` which takes a list of integer numbers as argument. The function should return, the minimum, mean and maximum numbers contained in the list.\n",
    "\n",
    "  **You are not allowed to use the builtin `Python`-functions `max`, `min` and `sum` for this exercise.**"
   ]
  },
  {
   "cell_type": "markdown",
   "metadata": {},
   "source": [
    "- Write a program to print the numbers of a specified list of integer numbers after removing all even numbers from it."
   ]
  },
  {
   "cell_type": "markdown",
   "metadata": {},
   "source": [
    "- Write a program to find the index of an item in a specified list.\n",
    "\n",
    "  **Note:** You are not allowed to use the `list.index`-function."
   ]
  },
  {
   "cell_type": "markdown",
   "metadata": {},
   "source": [
    "- Write a function `triple` which retruns `True` if some element of the list appears times or more often in it. The result of `triple` is `False` otherwise.\n",
    "\n",
    "  **Hint: The problem is easy to solve if you first sort the list.**"
   ]
  },
  {
   "cell_type": "markdown",
   "metadata": {},
   "source": [
    "-  Write a function to find common items from two lists (arguments) and to return a new list of the common items."
   ]
  },
  {
   "cell_type": "markdown",
   "metadata": {},
   "source": [
    "- A palindrome is a word which reads the same from the front and from the back, e.g. `rentner`, `maoam`, `reittier`, `bob` and `maoam`. Implement a function `is_palindrome` which takes a string as mandatory argument. The function should return `True` if the given string is a palindrome and `False` otherwise.\n",
    "\n",
    "  **Hint: When having done [the very first review question](#basic_slicing), you should be able to do this function in one essential line of code!**"
   ]
  },
  {
   "cell_type": "markdown",
   "metadata": {},
   "source": [
    "- Solve [Problem 1](https://projecteuler.net/problem=1) of Project Euler.\n",
    "\n",
    "  **Hints: (1) This can be done in a one-liner with a list comprehension; (2) To obtain the sum of all elements in a list `l`, you can use `sum(l)`.**"
   ]
  },
  {
   "cell_type": "markdown",
   "metadata": {
    "collapsed": true
   },
   "source": [
    "- Solve [problem 8](https://projecteuler.net/problem=8) of ProjectEuler.\n",
    "\n",
    "**Hint:** You wrote a function `cross_sum` to calculate the crosssum of an integer number in this [exercise](02_container_in_python.ipynb/#cross_sum). For this problem, a similar function `cross_product` calculating the crossproduct of an integer will come in very handy."
   ]
  },
  {
   "cell_type": "code",
   "execution_count": 1,
   "metadata": {},
   "outputs": [],
   "source": [
    "# your solution here\n",
    "\n",
    "# The variable 'number' below contains the 1000-digit\n",
    "# number of the Euler-problem as a string\n",
    "\n",
    "number = \"\"\"\n",
    "73167176531330624919225119674426574742355349194934\n",
    "96983520312774506326239578318016984801869478851843\n",
    "85861560789112949495459501737958331952853208805511\n",
    "12540698747158523863050715693290963295227443043557\n",
    "66896648950445244523161731856403098711121722383113\n",
    "62229893423380308135336276614282806444486645238749\n",
    "30358907296290491560440772390713810515859307960866\n",
    "70172427121883998797908792274921901699720888093776\n",
    "65727333001053367881220235421809751254540594752243\n",
    "52584907711670556013604839586446706324415722155397\n",
    "53697817977846174064955149290862569321978468622482\n",
    "83972241375657056057490261407972968652414535100474\n",
    "82166370484403199890008895243450658541227588666881\n",
    "16427171479924442928230863465674813919123162824586\n",
    "17866458359124566529476545682848912883142607690042\n",
    "24219022671055626321111109370544217506941658960408\n",
    "07198403850962455444362981230987879927244284909188\n",
    "84580156166097919133875499200524063689912560717606\n",
    "05886116467109405077541002256983155200055935729725\n",
    "71636269561882670428252483600823257530420752963450\n",
    "\"\"\"\n"
   ]
  },
  {
   "cell_type": "code",
   "execution_count": null,
   "metadata": {},
   "outputs": [],
   "source": []
  }
 ],
 "metadata": {
  "kernelspec": {
   "display_name": "Python 3",
   "language": "python",
   "name": "python3"
  },
  "language_info": {
   "codemirror_mode": {
    "name": "ipython",
    "version": 3
   },
   "file_extension": ".py",
   "mimetype": "text/x-python",
   "name": "python",
   "nbconvert_exporter": "python",
   "pygments_lexer": "ipython3",
   "version": "3.6.5"
  }
 },
 "nbformat": 4,
 "nbformat_minor": 2
}
