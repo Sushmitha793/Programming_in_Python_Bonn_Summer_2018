{
 "cells": [
  {
   "cell_type": "markdown",
   "metadata": {},
   "source": [
    "# Monday, 30/05/2018: Review questions\n",
    "Here some review questions and (very simple) exercises for the material that we covered in class. They should help you to identify topics that you should further reivew with the literature or the Internet.\n",
    "\n",
    "Please feel free to e-mail Aakash or myself for any questions you might have!"
   ]
  },
  {
   "cell_type": "markdown",
   "metadata": {},
   "source": [
    "**Creation of simple numpy-arrays**\n",
    "\n",
    "Solve each of the following with a single `python`-command"
   ]
  },
  {
   "cell_type": "markdown",
   "metadata": {},
   "source": [
    "- Create a `numpy`-array with five elemnts of your choice."
   ]
  },
  {
   "cell_type": "markdown",
   "metadata": {},
   "source": [
    "- Create a `numpy`-array with the integer numbers from 0 to 500\n",
    "  - Print the elements 3, 25 and 100 to 110 of the array you just created."
   ]
  },
  {
   "cell_type": "markdown",
   "metadata": {},
   "source": [
    "- Create a `numpy`-array of size 10 with random float numbers between 0 an 1.\n",
    "\n",
    "  **Hint:** function `random_sample` within the `numpy.random` module."
   ]
  },
  {
   "cell_type": "markdown",
   "metadata": {},
   "source": [
    "**Simple `numpy`-array manipulation**\n",
    "\n",
    "Use a maximum of two lines of python code for each of the following"
   ]
  },
  {
   "cell_type": "markdown",
   "metadata": {},
   "source": [
    "- Create an array `a` with the numbers from 1 to 100 in steps of 1 (integer-type array).\n",
    "  - Create an array `b` with the square numbers of `a`.\n",
    "  - Create an array `c` with the `sin` of `a`.\n",
    "  - Calculate the sum of the elements of `a`.\n",
    "  - Create an array `d` which contains all elements of `a` which are divisible by 3.\n",
    "  - Create an array `e` which contains all elemnts of `a` that are greater than 20 and smaller than 33 (use a masking command here, not a slice!)."
   ]
  },
  {
   "cell_type": "markdown",
   "metadata": {},
   "source": [
    "- Calculate the volumes of spheres with radii $r=0,1,2,3,\\dots,10$"
   ]
  },
  {
   "cell_type": "markdown",
   "metadata": {},
   "source": [
    "- Create an array with 12 random numbers in the range $0$ to $2\\pi$.\n",
    "\n",
    "  **Hint:** Use an array of 12 random float numbers between 0 and 1 as a basis and transform this array."
   ]
  },
  {
   "cell_type": "markdown",
   "metadata": {},
   "source": [
    "- Generalise the previous exercise to obtain an array of 12 random float numbers between $a$ and $b$."
   ]
  },
  {
   "cell_type": "markdown",
   "metadata": {},
   "source": [
    "**Please try to answer the following questions before executing any code. Do this only to verify your answers and use appropriate help-utilities if you are uncertain! For each problem you should be able to explain WHY you obtain a certain result!**"
   ]
  },
  {
   "cell_type": "markdown",
   "metadata": {},
   "source": [
    "- What is the result of the following code:\n",
    "\n",
    "    ```\n",
    "    import numpy as np\n",
    "    \n",
    "    x = np.array([1,2,3,4,5 ])\n",
    "    \n",
    "    y = (x[2:] + x[:-2]) / 2.\n",
    "    z = (x[:] + x[::-1]) / 2.\n",
    "    \n",
    "    print(y, z)\n",
    "    ```"
   ]
  },
  {
   "cell_type": "markdown",
   "metadata": {},
   "source": [
    "- What is the result of the following code:\n",
    "    \n",
    "    ```\n",
    "    import numpy as np\n",
    "    \n",
    "    x = np.arange(1, 11)\n",
    "    y = np.arange(10, 20)\n",
    "    \n",
    "    x[x<5] = 100\n",
    "    x[y>15] = 2\n",
    "    \n",
    "    print(x)\n",
    "    ```"
   ]
  },
  {
   "cell_type": "markdown",
   "metadata": {},
   "source": [
    "- What is the result of the following code:\n",
    "    ```\n",
    "    import numpy as np\n",
    "    \n",
    "    x = np.arange(1, 21)\n",
    "    \n",
    "    x[(x**2 >= 9) & (x**3 < 1000)] = 100\n",
    "    \n",
    "    print(x)\n",
    "    ```"
   ]
  },
  {
   "cell_type": "markdown",
   "metadata": {},
   "source": [
    "- What is the result of the following code:\n",
    "\n",
    "   ```\n",
    "   import numpy as np\n",
    "   \n",
    "   a = np.arange(1,11)\n",
    "   \n",
    "   b = (a%2 == 0)\n",
    "   \n",
    "   print(b)\n",
    "   ```"
   ]
  },
  {
   "cell_type": "markdown",
   "metadata": {},
   "source": [
    "- What is the result of the following code? Correct the part of the code that produces an error to give the expected result:\n",
    "  \n",
    "  ```\n",
    "  import numpy as np\n",
    "  \n",
    "  n = np.arange(1, 11)\n",
    "  n[::2] = 100\n",
    "  print(n)\n",
    "  \n",
    "  l = list(range(1,11))\n",
    "  l[::2] = 100\n",
    "  print(l)\n",
    "  ```"
   ]
  },
  {
   "cell_type": "markdown",
   "metadata": {},
   "source": [
    "- What is the result of the following code?\n",
    "\n",
    "    ```\n",
    "    import numpy as np\n",
    "    \n",
    "    l = [1, 2, 3, 4]\n",
    "    l1 = l[::2]\n",
    "    l1[0] = 9\n",
    "\n",
    "    n = np.array([1, 2, 3, 4])\n",
    "    n1 = n[::2]\n",
    "    n1[0] = 9\n",
    "    \n",
    "    print(l, n)\n",
    "    ```"
   ]
  },
  {
   "cell_type": "markdown",
   "metadata": {},
   "source": [
    "- What is the output of the following code?\n",
    "\n",
    "  ```\n",
    "  import numpy as np\n",
    "  \n",
    "  def double(x):\n",
    "      x *= 2\n",
    "      return(x)\n",
    "      \n",
    "  l = list(range(1,5))\n",
    "  double(l)\n",
    "  print(l)\n",
    "  \n",
    "  s = \"Thomas\"\n",
    "  double(s)\n",
    "  print(s)\n",
    "  \n",
    "  n = np.arange(1, 5)\n",
    "  double(n)\n",
    "  print(n)\n",
    "  ```\n",
    "  "
   ]
  },
  {
   "cell_type": "markdown",
   "metadata": {},
   "source": [
    "- What is the output of the following code:\n",
    "   ```\n",
    "   import numpy as np\n",
    "   \n",
    "   l = list(range(1, 6))\n",
    "   n = np.arange(1, 6)\n",
    "\n",
    "   l1 = l\n",
    "   n1 = n\n",
    "\n",
    "   l2 = l[:]\n",
    "   n2 = n[:]\n",
    "\n",
    "   l1[0] = 100\n",
    "   n1[0] = 100\n",
    "   l2[-1] = 100\n",
    "   n2[-1] = 100\n",
    "\n",
    "   print(l, n)\n",
    "   print(l1, n1)\n",
    "   print(l2, n2)\n",
    "\n",
    "   ```"
   ]
  },
  {
   "cell_type": "markdown",
   "metadata": {
    "collapsed": true
   },
   "source": [
    "**Simple programs to write**"
   ]
  },
  {
   "cell_type": "markdown",
   "metadata": {},
   "source": [
    "- Write a program which plots the exponential function $\\mathrm{e}^x$ between 0 and 2. Please create a plot with proper axes labels, appropriate font sizes and line thickness and include a legend."
   ]
  },
  {
   "cell_type": "code",
   "execution_count": null,
   "metadata": {
    "collapsed": true
   },
   "outputs": [],
   "source": []
  }
 ],
 "metadata": {
  "kernelspec": {
   "display_name": "Python 3",
   "language": "python",
   "name": "python3"
  },
  "language_info": {
   "codemirror_mode": {
    "name": "ipython",
    "version": 3
   },
   "file_extension": ".py",
   "mimetype": "text/x-python",
   "name": "python",
   "nbconvert_exporter": "python",
   "pygments_lexer": "ipython3",
   "version": "3.6.5"
  }
 },
 "nbformat": 4,
 "nbformat_minor": 2
}
