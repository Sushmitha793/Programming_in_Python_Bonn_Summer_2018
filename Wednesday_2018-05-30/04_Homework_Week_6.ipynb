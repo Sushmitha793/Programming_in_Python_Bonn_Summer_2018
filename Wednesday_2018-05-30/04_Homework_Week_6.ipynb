{
 "cells": [
  {
   "cell_type": "markdown",
   "metadata": {},
   "source": [
    "# Homework for Week 6 - Basic `numpy`"
   ]
  },
  {
   "cell_type": "markdown",
   "metadata": {},
   "source": [
    "**Homework is due on Monday, 06/06/2017, 1pm**\n",
    "- You only learn a programming language by actively praticing and using it! I therefore **strongly** advise you to work on the homework problems.\n",
    "- You are required to hand in group solutions (three students per group) - Please put the names of the students involved and the group number clearly within the Jupyter notebooks or as comments within scripts.\n",
    "- You need to reach 50 % of all possible homework points at the end of the term as one condition for your credit-points.\n",
    "- Please discuss the problems with your student peers in case of problems.\n",
    "- Please send your solutions via mail to Aakash and myself. Collect all your notebooks/scripts in **a single** Unix-gzipped Unix-tarfile with the name `group_X_submission_Week_Y.tgz` (`X` being your group number and `Y` the week-number of the homework sheet) that you send us. Please **do not** send us several individual files for your homework submission but **only one** tar-file!\n",
    "  - Aakash will correct them and give you feedback on your solutions. I also will talk about common problems in later classes.\n",
    "  - You can hand in Jupyter notebooks (please only **one** with solutions for all homework tasks) or Python scripts.\n",
    "  - If you hand in scripts, please use the proposed names to make live easier for us!\n",
    "  - Your code needs to be well and appropriately commented! \n",
    "  - Please note within your script or notebook, how much time you needed for the task. We want to get a better feeling on the work-load we ask for."
   ]
  },
  {
   "cell_type": "markdown",
   "metadata": {},
   "source": [
    "## Integration"
   ]
  },
  {
   "cell_type": "markdown",
   "metadata": {},
   "source": [
    "We want to estimate the integrals\n",
    "$$\\int_0^{\\pi}\\sin(x)\\,{\\rm d}x = 2; \\qquad \\int_{-1}^2 x^3\\,{\\rm d}x=\\frac{15}{4}$$ .\n",
    "\n",
    "We will do the estimation in the easiest possible way with Riemann sums: Be $f(x)$ a continuous function on the interval $I=[a;b]$. Be $x_i$ with $a < x_0 < \\dots < x_n < b$ a decomposition of the interval $I$. With $\\Delta x_i=x_{i+1}-x_i; i\\in[0,n-1]$ and $f_{\\Delta_i}=f\\left(\\frac{x_i+x_{i+1}}2\\right)$ the integral can be approximated with\n",
    "$$\\int_a^bf(x)\\,{\\rm d}x\\approx \\sum_{i=0}^{n-1}\\Delta x_i\\cdot f_{\\Delta_i}.$$\n",
    "The idea is shown in the figure below. Write a `python`-program to estimate the two integrals with this prescription.\n",
    "\n",
    "If you hand in a script for this exercise, please name it `integral_group_X.py`.\n",
    "\n",
    "<img src=\"figs/sin_cubic.png\" style=\"width: 500px;\" style=\"height: 250px;\">  "
   ]
  },
  {
   "cell_type": "markdown",
   "metadata": {},
   "source": [
    "## An estimate of $\\pi$"
   ]
  },
  {
   "cell_type": "markdown",
   "metadata": {},
   "source": [
    "Create two arrays `x` and `y` of 5000 random points with $0\\leq x < 1$ and $0\\leq y < 1$. Create a scatter plot\n",
    "of `x` and `y`. Plot point satisfying $x^2+y^2 <=1$ in one color and all others in another one. Plot also the circle segment separating the two samples. You should get a figure similar to that below. The fraction of the points with $x^2+y^2 <=1$ compared to the whole sample is an estimate for $\\pi/4$. What is your estimate for $\\pi$?\n",
    "\n",
    "If you hand in a script for this exercise, please name it `pi_group_X.py`.\n",
    "\n",
    "  **Bonus:** In your plot, the aspect ratio of the `x` and `y`-axis is probably not equal and the circle segment looks more like an ellipse-segment. Create the plot with equal axis-ratios.\n",
    "  \n",
    "<img src=\"figs/pi.png\" style=\"width: 400px;\" style=\"height: 400px;\">  "
   ]
  },
  {
   "cell_type": "markdown",
   "metadata": {},
   "source": [
    "## Fractional Arcs\n",
    "In this exercise you will write a program, to construct and to visualise the *Farey-sequence* at arbitrary order.\n",
    "\n",
    "The Farey-sequence of order $n$ is the sequence of all fully reduced fractions $p/q$ in the interval $[0,1]$ with $1\\leq q\\leq n$. The Faray sequence $F_{n+1}$ of order $n+1$ can easily be constructed if $F_n$ is known. To this end, we calculate the expression\n",
    "$$\n",
    "\\frac{p_1+p_2}{q_1+q_2}\n",
    "$$\n",
    "of two neighbouring entries from $F_n$ and add it to the sequence if $q_1+q_2 = n+1$.\n",
    "\n",
    "For instance, $F_1$ is given by:\n",
    "$$\n",
    "F_1=\\left(\\frac 01, \\frac 11\\right)\n",
    "$$\n",
    "If we calculate the expression above for the two entries of $F_1$, we obtain the new term $\\frac{0+1}{1+1}=\\frac 12$ and we get:\n",
    "$$\n",
    "F_2=\\left(\\frac 01, \\frac 12, \\frac 11\\right)\n",
    "$$\n",
    "Similar considerations lead to:\n",
    "$$\n",
    "F_3=\\left(\\frac 01, \\frac 13, \\frac 12, \\frac 23, \\frac 11\\right).\n",
    "$$\n",
    "The sequences also nicely can be visualised as in the following:\n",
    "<img src=\"figs/farey.png\" style=\"height: 400px;\">\n",
    "How was this figure created? Construct an algorithm to display the arcs from given Farey-sequences!\n",
    "\n",
    "**Your Tasks:**\n",
    "1. Write a program to print out the Farey-sequence of arbitrary order. The fractions should be displayed as pairs (p, q).\n",
    "2. Visualise your Farey-sequences with figures similar to the one above.\n",
    "\n",
    "If you hand in a script for this exercise, please call it `farey_group_X.py`.\n",
    "\n",
    "**Hints:** (1) You might find useful the functions `np.where` and `np.insert` for this exercise; (2) It is important that your plot has readable labels, good font-sizes etc. Please do not spend much time on *reproducing* the plot above with every detail (labels that look like fractions, colors of curves etc.)!"
   ]
  },
  {
   "cell_type": "code",
   "execution_count": null,
   "metadata": {
    "collapsed": true
   },
   "outputs": [],
   "source": [
    "# space for your solution"
   ]
  }
 ],
 "metadata": {
  "kernelspec": {
   "display_name": "Python 3",
   "language": "python",
   "name": "python3"
  },
  "language_info": {
   "codemirror_mode": {
    "name": "ipython",
    "version": 3
   },
   "file_extension": ".py",
   "mimetype": "text/x-python",
   "name": "python",
   "nbconvert_exporter": "python",
   "pygments_lexer": "ipython3",
   "version": "3.6.5"
  }
 },
 "nbformat": 4,
 "nbformat_minor": 1
}
