{
 "cells": [
  {
   "cell_type": "markdown",
   "metadata": {},
   "source": [
    "# Numpy Arrays - Introduction\n",
    "Numpy arrays are the Python container specialised for multi-dimensional numerical calculations and data visualization. They are offered within the `numpy` module.\n",
    "\n",
    "- They form an array of *homogeneous* (typically numerical) data\n",
    "- A list of numerical types available for numpy-arrays is [here](http://docs.scipy.org/doc/numpy/user/basics.types.html)\n",
    "- They consist of the data-array and information on the structure of the array (metadata on memory layout)\n",
    "- Besides the array-type the `numpy`-module contains *vectorized* functions allowing *very fast* manipulation of `numpy`-arrays."
   ]
  },
  {
   "cell_type": "code",
   "execution_count": null,
   "metadata": {},
   "outputs": [],
   "source": [
    "import numpy as np\n",
    "\n",
    "# numpy-array creation from a list:\n",
    "a = np.array([1.0, 2.0, 3.0, 4.0]) # np.array is a type-conversion function\n",
    "print(type(a))     # the type is numpy-array\n",
    "print(a.dtype)     # the data-type object.\n",
    "print(a.ndim)      # number of array dimensions\n",
    "print(a.shape)     # shape of an array (interesting mainly for multi-dimensional arrays)\n",
    "print(a.strides)   # The number of bytes fron one element to the next"
   ]
  },
  {
   "cell_type": "markdown",
   "metadata": {},
   "source": [
    "## Remark on data-types of arrays\n",
    "Especially when you load data from external sources and you want to save them again, it is important to *exactly* control the type of your data!\n",
    "\n",
    "After a command such as\n",
    "   ```\n",
    "   a = np.array([1.0, 2.0, 3.0, 4.0])\n",
    "   ```\n",
    "the *type* of `a` if machine dependent! On 64-bit machines, it will be `np.float64` and on 32-bit machines\n",
    "`np.float32`!\n",
    "\n",
    "If the type is important, you should specify it explicitely with `dtype` such as\n",
    "   ```\n",
    "   # single precision (4-byte) float numbers\n",
    "   a_single = np.array([1.0, 2.0, 3.0, 4.0], dtype=np.float32)\n",
    "   \n",
    "   # double precision (8-byte) float numbers\n",
    "   a_double = np.array([1.0, 2.0, 3.0, 4.0], dtype=np.float64))\n",
    "   ```\n"
   ]
  },
  {
   "cell_type": "markdown",
   "metadata": {},
   "source": [
    "## Basic Array creation"
   ]
  },
  {
   "cell_type": "code",
   "execution_count": null,
   "metadata": {
    "scrolled": true
   },
   "outputs": [],
   "source": [
    "import numpy as np\n",
    "\n",
    "# there are many possibilities to create a numpy-array\n",
    "a = np.array([1,2,3,4])       # conversion of a numerical list to a numpy-array\n",
    "b = np.arange(0.0, 1.0, 0.1)  # array between two limits with a given distance\n",
    "                              # between array elements. The array if a half-open\n",
    "                              # interval!\n",
    "print(b)\n",
    "c = np.linspace(0.0, 1.0, 10) # array between two limits with a given number of\n",
    "                              # array elements. Both limits are contained in the\n",
    "                              # array\n",
    "print(c)\n",
    "d = np.zeros(10)              # array of 10 elements with 0 \n",
    "print(d)"
   ]
  },
  {
   "cell_type": "markdown",
   "metadata": {},
   "source": [
    "## Slicing operations\n",
    "Array slicing for (one-dimensional) numpy arrays works exactly as for lists and other Python containers"
   ]
  },
  {
   "cell_type": "code",
   "execution_count": null,
   "metadata": {},
   "outputs": [],
   "source": [
    "import numpy as np\n",
    "\n",
    "a = np.arange(0, 11, 1)\n",
    "print(a)\n",
    "print(a[5])    # access 6th element (zero-based arrays!)\n",
    "print(a[2:6])  # access third up to the sixth element\n",
    "print(a[1::2]) # access every other element starting from the second\n",
    "print(a[:-1])  # access all elements except the last"
   ]
  },
  {
   "cell_type": "markdown",
   "metadata": {},
   "source": [
    "## Note on memory management of `numpy`-arrays\n",
    "`numpy`-arrays have a very similar memory management (access to memory locations in variable reassignments) to lists. An important difference is that slices share the same memory as the original array for numpy arrays. However, slices of lists are copies from the original list data!"
   ]
  },
  {
   "cell_type": "code",
   "execution_count": null,
   "metadata": {},
   "outputs": [],
   "source": [
    "import numpy as np\n",
    "\n",
    "l = list(range(7))\n",
    "n = np.arange(0, 7, 1)\n",
    "print(l, n)\n",
    "\n",
    "# n1 and l1 share the same memory with n and l!\n",
    "# modifications on l1 and n1 also lead to\n",
    "# modifications in l and n:\n",
    "l1 = l\n",
    "n1 = n\n",
    "\n",
    "l1[0] = 10\n",
    "n1[0] = 10\n",
    "print(l, n)\n",
    "\n",
    "# slices behave differently for lists and numpy-arrays:\n",
    "ls = l[1:4] # uses different memory than l!\n",
    "ns = n[1:4] # uses same memory as n!\n",
    "\n",
    "print(ls, ns)\n",
    "ls[0] = 5  # does not modify l\n",
    "ns[0] = 5  # modifies also n\n",
    "print(l, ls)\n",
    "print(n, ns)"
   ]
  },
  {
   "cell_type": "markdown",
   "metadata": {},
   "source": [
    "### Exercises\n",
    "- create a numpy array of 10 zeros of 'int32' data-type.\n",
    "- create an array with 10 logarithmically spaced elements between 1 and 100.\n",
    "- Explain the result of the following cell"
   ]
  },
  {
   "cell_type": "code",
   "execution_count": null,
   "metadata": {},
   "outputs": [],
   "source": [
    "import numpy as np\n",
    "\n",
    "a = np.arange(0,11, 1)\n",
    "print(\"Array a:\", a)\n",
    "b = a[2:5]    # array slicing creates 'views' of an existing array!\n",
    "print(\"Array b:\", b)\n",
    "b[0] = 100\n",
    "print(\"Array b:\", b)\n",
    "print(\"Array a:\", a)\n",
    "\n",
    "c = np.arange(0,11, 1)\n",
    "print(\"Array c:\", c)\n",
    "d = c[2:5].copy()  # we create an explicit copy here!\n",
    "print(\"Array d:\", d)\n",
    "d[0] = 100\n",
    "print(\"Array d:\", d)\n",
    "print(\"Array c:\", c)"
   ]
  },
  {
   "cell_type": "markdown",
   "metadata": {},
   "source": [
    "## Array operations\n",
    "`numpy`-arrays can be connected with mathematical operations and they behave as you would expect them to. Mathematical operations betwen arrays are performed *elementwise*."
   ]
  },
  {
   "cell_type": "code",
   "execution_count": null,
   "metadata": {},
   "outputs": [],
   "source": [
    "x = np.array([1, 2, 3])\n",
    "y = np.array([4, 5, 6])\n",
    "print(x + y)   # element-wise addition\n",
    "print(x * y)   # element-wise multiplication\n",
    "print(x + 2 * y)  # more complex manipulation\n",
    "print(x**y)\n",
    "print(y > 4)    # element-wise comparison resulting in\n",
    "                # a bool-array!"
   ]
  },
  {
   "cell_type": "markdown",
   "metadata": {},
   "source": [
    "application of high-performace, vectorized functions:"
   ]
  },
  {
   "cell_type": "code",
   "execution_count": null,
   "metadata": {},
   "outputs": [],
   "source": [
    "x = np.linspace(0.0, 2.0 * np.pi, 50)\n",
    "y = np.sin(x)\n",
    "print(y)"
   ]
  },
  {
   "cell_type": "markdown",
   "metadata": {},
   "source": [
    "**Manipulate numpy-arrays with vector operations whenever possible!** If somebody tells you that Python is about 10 times slower than C, they talk about element-wise array manipulations with loops!"
   ]
  },
  {
   "cell_type": "code",
   "execution_count": null,
   "metadata": {},
   "outputs": [],
   "source": [
    "%%timeit\n",
    "# fast vector operations\n",
    "x = np.linspace(0.0, 2.0 * np.pi, 100)\n",
    "y = np.sin(x)"
   ]
  },
  {
   "cell_type": "code",
   "execution_count": null,
   "metadata": {},
   "outputs": [],
   "source": [
    "%%timeit\n",
    "# C-like element-wise array manipulation\n",
    "x = np.linspace(0.0, 2.0 * np.pi, 100)\n",
    "y = np.zeros(len(x))\n",
    "\n",
    "for i in range(len(x)):\n",
    "    y[i] = np.sin(x[i])"
   ]
  },
  {
   "cell_type": "markdown",
   "metadata": {},
   "source": [
    "### Exercise:\n",
    "- Calculate the `scalar` product of two one-dimensional numpy arrays: $s=\\sum_{i=1}^Na_ib_i$.\n",
    "\n",
    "  **Hint**: The function `np.sum` calculates the sum of the elements of an array.\n",
    "- Use the function `random_sample` witin the module `numpy.random` to create a numpy array $x$ of 1000 uniformly distributed random numbers within $[-1;1)$.\n",
    "- Calculate the mean $\\bar{x}=\\frac 1N\\sum_{i=1}^N x_i$ and the standard deviation\n",
    "$s_x=\\sqrt{\\frac 1{N-1}\\sum_{i=1}^N(x_i-\\bar{x})^2}$ of the elements in $x$. Does the result meet your expectations?\n",
    "\n",
    "  You can use the function `numpy.sum` **but not** the functions `numpy.mean` and `numpy.std` for this exercise!\n"
   ]
  },
  {
   "cell_type": "code",
   "execution_count": null,
   "metadata": {},
   "outputs": [],
   "source": [
    "# your solutions here"
   ]
  },
  {
   "cell_type": "markdown",
   "metadata": {},
   "source": [
    "## Basic plotting of numpy-Arrays\n",
    "We will cover matplotlib in more detail later but we give some basic commands here for simple plots!"
   ]
  },
  {
   "cell_type": "code",
   "execution_count": null,
   "metadata": {},
   "outputs": [],
   "source": [
    "%matplotlib inline\n",
    "# The previous line is necessary that matplotlib plots\n",
    "# appear within the Jupyter documents. It is sufficent to\n",
    "# give it once within a document.\n",
    "import numpy as np\n",
    "import matplotlib.pyplot as plt\n",
    "\n",
    "# matplotlib plots numpy-array values!\n",
    "x = np.linspace(0.0, 2.0 * np.pi, 100)\n",
    "y = np.sin(x)\n",
    "\n",
    "# Note that you can use LaTeX in for labels, titles\n",
    "# etc.\n",
    "plt.xlabel(r\"$x$\")\n",
    "plt.ylabel(r\"$y$\")\n",
    "plt.title(r\"The $\\sin(x)$ function\")\n",
    "\n",
    "# a simple x-y plot\n",
    "plt.plot(x, y)\n"
   ]
  },
  {
   "cell_type": "markdown",
   "metadata": {},
   "source": [
    "### Worked example and exercise\n",
    "I will walk you through a very simple method to estimate derivatives of functions given at discrete points.\n",
    "\n",
    "Write Python code to estimate the derivative $\\frac{\\rm d}{\\rm{dx}}\\sin(x)$ with $x\\in[0, 2\\pi]$ and plot the result. Create another plot showing the difference between your estimated derivative and the function $\\cos(x)$."
   ]
  },
  {
   "cell_type": "code",
   "execution_count": null,
   "metadata": {},
   "outputs": [],
   "source": [
    "# your solution here"
   ]
  },
  {
   "cell_type": "markdown",
   "metadata": {},
   "source": [
    "## Fancy indexing and masking\n",
    "Slicing does not provide all the necessary functionality to extract sub-arrays. For instance, the application of a $\\log$-function only should happen on elements larger than zero. We would therefore like to act on array elements meeting more complex conditions."
   ]
  },
  {
   "cell_type": "markdown",
   "metadata": {},
   "source": [
    "### Fancy indexing: explicit array access with a subset of indices"
   ]
  },
  {
   "cell_type": "code",
   "execution_count": null,
   "metadata": {},
   "outputs": [],
   "source": [
    "import numpy as np\n",
    "\n",
    "x = np.arange(1, 5, 1)\n",
    "print(x)\n",
    "ind = np.array([0, 2, 3]) # indices of elements we would like to extract\n",
    "b = x[ind]\n",
    "print(b)"
   ]
  },
  {
   "cell_type": "markdown",
   "metadata": {},
   "source": [
    "### Boolean indexing: array access with a bool *mask-array*"
   ]
  },
  {
   "cell_type": "code",
   "execution_count": null,
   "metadata": {},
   "outputs": [],
   "source": [
    "# Note that boolean-indexing is usually never done explicitely\n",
    "# but indirectly via masking (see below). We show the explicit\n",
    "# boolean masking for demonstration purposes here.\n",
    "import numpy as np\n",
    "\n",
    "x = np.arange(1, 5, 1)\n",
    "print(x)\n",
    "# we access indices that are 'True' in a boolean array\n",
    "# of the same size as x:\n",
    "ind = np.array([True, False, True, True])\n",
    "b = x[ind]\n",
    "print(b)"
   ]
  },
  {
   "cell_type": "markdown",
   "metadata": {},
   "source": [
    "### General Masking"
   ]
  },
  {
   "cell_type": "code",
   "execution_count": null,
   "metadata": {},
   "outputs": [],
   "source": [
    "import numpy as np\n",
    "import numpy.random as nr\n",
    "\n",
    "x = nr.randint(-10, 10, 10)\n",
    "print(x)\n",
    "mask1 = (x > 0)  # mask is a bool array\n",
    "y = x[mask1]     # extract the values from x where mask = True\n",
    "print(y)\n",
    "mask2 = (x > 0) & (x < 4)  # combined mask (and condition)\n",
    "mask3 = (x < -5) | ( x > 5) # combined mask (or condition)\n",
    "print(x[mask2])\n",
    "print(x[mask3])"
   ]
  },
  {
   "cell_type": "markdown",
   "metadata": {},
   "source": [
    "## Important Notes\n",
    "- In contrast to slicing, fancy indexing and masking **always** return **copies** of the original array!"
   ]
  },
  {
   "cell_type": "code",
   "execution_count": null,
   "metadata": {},
   "outputs": [],
   "source": [
    "import numpy as np\n",
    "\n",
    "a = np.arange(0, 11, 1)\n",
    "\n",
    "b = a[::2] # get each second number of a\n",
    "print(b)\n",
    "\n",
    "# create the 'same' array with fancy indexing:\n",
    "c = a[np.array([0, 2, 4, 6, 8, 10])]\n",
    "print(c)\n",
    "\n",
    "# create again the 'same' array with masking:\n",
    "d = a[a%2 == 0]\n",
    "print(d)\n",
    "\n",
    "# only a modification in b also modifies a!\n",
    "b[0] = 5\n",
    "print(a, b)\n",
    "\n",
    "c[1] = 100\n",
    "print(a, c)\n",
    "\n",
    "d[2] = 1000\n",
    "print(a, d)"
   ]
  },
  {
   "cell_type": "markdown",
   "metadata": {},
   "source": [
    "- Fancy indexing and masking can be used *on the left side of an assignment* as well!"
   ]
  },
  {
   "cell_type": "code",
   "execution_count": null,
   "metadata": {},
   "outputs": [],
   "source": [
    "import numpy as np\n",
    "\n",
    "a = np.arange(0, 11, 1)\n",
    "\n",
    "ind = np.array([0, 2, 4])\n",
    "a[ind] = 1000\n",
    "print(a)\n",
    "\n",
    "a = np.arange(0, 11, 1)\n",
    "a[a%2 == 0] = 1000\n",
    "print(a)"
   ]
  },
  {
   "cell_type": "markdown",
   "metadata": {},
   "source": [
    "### Exercises:\n",
    "- Give a Python command which multiplies all positive numbers in an integer-array with 2. Negative numbers should be unchanged. The mofification should happen in place, i.e. the original array is replaced by the new one.\n",
    "- Write a Python function `my_sign` which calculates the signum function `sgn(x)` of an integer numpy-array:\n",
    "  $$\\text{sgn}(x)=\\left\\{\\begin{array}{lr}-1 & x < 0 \\\\ 0 & x = 0 \\\\ 1 & x > 0\\\\\\end{array}\\right.$$\n",
    "  The function should return a *new* array and leave the original one unchanged."
   ]
  }
 ],
 "metadata": {
  "kernelspec": {
   "display_name": "Python 3",
   "language": "python",
   "name": "python3"
  },
  "language_info": {
   "codemirror_mode": {
    "name": "ipython",
    "version": 3
   },
   "file_extension": ".py",
   "mimetype": "text/x-python",
   "name": "python",
   "nbconvert_exporter": "python",
   "pygments_lexer": "ipython3",
   "version": "3.6.5"
  }
 },
 "nbformat": 4,
 "nbformat_minor": 1
}
