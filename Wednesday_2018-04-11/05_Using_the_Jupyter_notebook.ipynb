{
 "cells": [
  {
   "cell_type": "markdown",
   "metadata": {},
   "source": [
    "# Using the Jupyter notebook"
   ]
  },
  {
   "cell_type": "markdown",
   "metadata": {},
   "source": [
    "The Jupyter *notebook* is a relatively new feature that has been implemented with Python, and allows you to write notebooks similar to e.g. Mathematica. It runs within your Web-Browser. The advantage of doing this is that you can include text, code, and plots in the same document. This makes it ideal for example to write up a report about a project that uses mostly Python code, in order to share with others. In fact, the notes for this course are written using the IPython notebook!\n",
    "\n",
    "**Note:** Juypter notebooks are the successor of IPython-notebooks. The latter only could be used with Python. In contrast, Jupyter notebooks (Jupyter is a short-cut for *Julia - Python - R*) can be used with a large variety of programming languages at the same time, e.g. the statistical *R*-language. See [this page](https://github.com/jupyter/jupyter/wiki/Jupyter-kernels) for a complete list of languages that can be integrated into Jupyter notebooks."
   ]
  },
  {
   "cell_type": "markdown",
   "metadata": {},
   "source": [
    "## Starting up"
   ]
  },
  {
   "cell_type": "markdown",
   "metadata": {},
   "source": [
    "### CIP Pool"
   ]
  },
  {
   "cell_type": "markdown",
   "metadata": {},
   "source": [
    "If you are using a computer in the CIP pool, you will need to add the following lines:\n",
    "```\n",
    "user$ source /usr/share/modules/init/bash\n",
    "user$ module load anaconda/36\n",
    "```\n",
    "to a file called ``.bashrc`` in your home directory. This ensures that the Anaconda Python3.6 Distribution is used by default. Then start the notebook with:\n",
    "```\n",
    "user$ jupyter notebook\n",
    "```    \n",
    "Please see the [computer setup page on github](https://github.com/terben/Programming_in_Python_Bonn_Summer_2018/tree/master/computer_setup) for information how to set up Python3.6 at AIfA and on own computers."
   ]
  },
  {
   "cell_type": "markdown",
   "metadata": {},
   "source": [
    "## First steps"
   ]
  },
  {
   "cell_type": "markdown",
   "metadata": {},
   "source": [
    "Click on ``File -> New Notebook``, which will start a new document. Ensure that you launch the notebook with a Python3-kernel if there are several possibilities. You can change the name of the document by clicking on the **Untitled** name at the top and entering a new name. Make sure you then save the document (make sure that you save regularly as you might lose content if you close the browser window!).\n",
    "\n",
    "At first glance, a notebook looks like a fairly typical application - it has a menubar (File, Edit, View, etc.) and a tool bar with icons. Below this, you will see an empty cell, in which you can type any Python code. You can write several lines of code, and once it is ready to run, you can press shift-enter and it will get executed:"
   ]
  },
  {
   "cell_type": "code",
   "execution_count": null,
   "metadata": {},
   "outputs": [],
   "source": [
    "a = 1\n",
    "print(a)"
   ]
  },
  {
   "cell_type": "markdown",
   "metadata": {},
   "source": [
    "You can then click on that cell, change the Python code, and press shift-enter again to re-execute the code. Once you have executed a cell once, a new cell will appear below. You can again enter some code, then press shift-enter to execute it."
   ]
  },
  {
   "cell_type": "markdown",
   "metadata": {},
   "source": [
    "## Plotting"
   ]
  },
  {
   "cell_type": "markdown",
   "metadata": {},
   "source": [
    "To make plots, enter any Matplotlib commands (see later lectures), and just press shift-enter - note that all commands for a plot should be entered in one cell, you cannot split it up over multiple cells:"
   ]
  },
  {
   "cell_type": "code",
   "execution_count": 1,
   "metadata": {},
   "outputs": [
    {
     "data": {
      "text/plain": [
       "Text(0,0.5,'y')"
      ]
     },
     "execution_count": 1,
     "metadata": {},
     "output_type": "execute_result"
    },
    {
     "data": {
      "image/png": "[encoded data removed]",
      "text/plain": [
       "<Figure size 432x288 with 1 Axes>"
      ]
     },
     "metadata": {},
     "output_type": "display_data"
    }
   ],
   "source": [
    "%matplotlib inline\n",
    "import matplotlib.pyplot as plt\n",
    "plt.plot([1,2,3],[4,5,6])\n",
    "plt.xlabel(\"x\")\n",
    "plt.ylabel(\"y\")"
   ]
  },
  {
   "cell_type": "markdown",
   "metadata": {},
   "source": [
    "As before, you can always go back and edit the cell to re-make the plot. If you want to save it, make sure you include ``plt.savefig(filename)`` as the last command, where ``filename`` is the name of the plot, such as ``my_plot.png``."
   ]
  },
  {
   "cell_type": "markdown",
   "metadata": {},
   "source": [
    "## Text (markdown cells)"
   ]
  },
  {
   "cell_type": "markdown",
   "metadata": {},
   "source": [
    "It is likely that you will want to enter actual text (non-code) in the notebook. To do this, click on a cell, and in the drop-down menu in the toolbar, select 'Markdown'. This is a specific type of syntax for writing text. You can just write text normally and press shift-enter to *render* it:\n",
    "\n",
    "    This is some plain text\n",
    "\n",
    "To edit it, double click on the cell. You can also enter section headings using the following syntax:\n",
    "\n",
    "    # This is a title\n",
    "\n",
    "    ## This is a sub-title\n",
    "    \n",
    "\n",
    "which will look like:\n",
    "\n",
    "# This is a title\n",
    "\n",
    "## This is a sub-title\n",
    "\n",
    "Finally, you can use LaTeX within Markdown cells:\n",
    "\n",
    "    \\begin{equation}\n",
    "      E = m c^2\n",
    "\\end{equation}\n",
    "    \n",
    "for equations centered on a separate line, or:\n",
    "\n",
    "    The equation $p=h/\\lambda$ is very important\n",
    "\n",
    "to include it in a sentence. This will look like:\n",
    "\n",
    "\\begin{equation}\n",
    "  E = m c^2\n",
    "\\end{equation}\n",
    "\n",
    "The equation $p=h/\\lambda$ is very important"
   ]
  },
  {
   "cell_type": "markdown",
   "metadata": {},
   "source": [
    "## Splitting/deleting/moving cells"
   ]
  },
  {
   "cell_type": "markdown",
   "metadata": {},
   "source": [
    "You can split, delete, and move cells by going to 'Edit' and selecting the appropriate command. Some of the commands are also available in the toolbar - put your mouse over the icon and wait for a second, and it will tell you what it does."
   ]
  },
  {
   "cell_type": "markdown",
   "metadata": {},
   "source": [
    "## Markdown language cheat sheet"
   ]
  },
  {
   "cell_type": "markdown",
   "metadata": {},
   "source": [
    "The markdown language is extremly powerful. It allows for instance the inclusion of images, web links, videos and offers very rich text formatting possibilities.\n",
    "There are many good markdown tutorials and cheat sheets on the Web. You can visit [this page](https://github.com/adam-p/markdown-here/wiki/Markdown-Cheatsheet) to get started!\n",
    "\n",
    "**Note:** Take some time to learn keyboard short-cuts for the most important cell-operations. You can find a list in the ``Help -> Keyboard Shortcuts`` menu or on the web, e.g. [here](https://www.cheatography.com/weidadeyue/cheat-sheets/jupyter-notebook/)"
   ]
  },
  {
   "cell_type": "markdown",
   "metadata": {},
   "source": [
    "## Finishing your session\n",
    "Please make sure to cleanly close your jupyter-notebook sessions - mainly to ensure that all your work and notebooks are properly saved.\n",
    "\n",
    "A rather foolproof procedure is:\n",
    "1. Save your notebook (File -> Save and Checkpoint or key shortcut). Do this from time to time during your work sessions (browser crashes etc.)\n",
    "2. Cleanly close your notebook(s) (File -> Close and Halt)\n",
    "3. Exit your WWW browser\n",
    "4. Type in a shell\n",
    "    ```\n",
    "    user$ jupyter notebook list\n",
    "    Currently running servers:\n",
    "    http://localhost:8888/...\n",
    "    .\n",
    "    .\n",
    "    ```\n",
    "    Note the four digit number after `localhost:`. In our case this is `8888`\n",
    "    \n",
    "    ```\n",
    "    user$ jupyter notebook stop 8888  # stops the notebook kernel 8888\n",
    "    ```"
   ]
  },
  {
   "cell_type": "markdown",
   "metadata": {},
   "source": [
    "## Important notes"
   ]
  },
  {
   "cell_type": "markdown",
   "metadata": {},
   "source": [
    "A few important notes about using the notebook:\n",
    "\n",
    "1. Save often! There is an auto-save in the notebook, but better to also save explicitly from time to time.\n",
    "2. If you accidentally close your WWW browser and you want to reenter your session, you can do the following:\n",
    "   1. Type in a Linux-shell\n",
    "    ```\n",
    "    user$ jupyter notebook list\n",
    "    Currently running servers:\n",
    "    http://localhost:8888/...\n",
    "    .\n",
    "    .\n",
    "    ```\n",
    "    \n",
    "   2. Open your WWW browser\n",
    "   3. Type into the adress-field `http://localhost:8888/`, i.e. the address you got from the `jupyter notebook list`-command leaving away everything after the `localhost:XXXX`-string.\n",
    "3. Code *can* be executed in an order different from top to bottom, but note that if you do this variables will not be reset. So for example if you type:"
   ]
  },
  {
   "cell_type": "code",
   "execution_count": 1,
   "metadata": {},
   "outputs": [],
   "source": [
    "a = 1"
   ]
  },
  {
   "cell_type": "markdown",
   "metadata": {},
   "source": [
    "then go higher up and type:"
   ]
  },
  {
   "cell_type": "code",
   "execution_count": null,
   "metadata": {},
   "outputs": [],
   "source": [
    "print(a)"
   ]
  },
  {
   "cell_type": "markdown",
   "metadata": {},
   "source": [
    "it will give the value you previously set. To make sure that your code works from top to bottom, go to the 'Cell' menu item and go to **All Output** -> **Clear** then in the **Cell** menu, select **Run All**.\n",
    "\n",
    "In addition, even if you remove a cell, then variables set in that cell still exist unless you restart the notebook. If you want to restart a notebook, you can select **Kernel** -> **Restart**. This removes any variables from memory, and you have to start running the notebook from the start."
   ]
  }
 ],
 "metadata": {
  "kernelspec": {
   "display_name": "Python 3",
   "language": "python",
   "name": "python3"
  },
  "language_info": {
   "codemirror_mode": {
    "name": "ipython",
    "version": 3
   },
   "file_extension": ".py",
   "mimetype": "text/x-python",
   "name": "python",
   "nbconvert_exporter": "python",
   "pygments_lexer": "ipython3",
   "version": "3.6.5"
  }
 },
 "nbformat": 4,
 "nbformat_minor": 1
}
